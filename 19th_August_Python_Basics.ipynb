{
 "cells": [
  {
   "cell_type": "markdown",
   "id": "f64174c0-4794-480d-90bc-a38f40fbf8d0",
   "metadata": {},
   "source": [
    "TOPIC: Python Basics Variable"
   ]
  },
  {
   "cell_type": "code",
   "execution_count": 1,
   "id": "542f83b3-3874-482a-b530-c9f5583b61ac",
   "metadata": {},
   "outputs": [
    {
     "name": "stdout",
     "output_type": "stream",
     "text": [
      "Before swap: \n",
      "x = 10 \n",
      "y = 20\n",
      "After swap: \n",
      "x = 20 \n",
      "y = 10\n"
     ]
    }
   ],
   "source": [
    "'''Declare two variables, `x` and `y`, and assign them integer values.\n",
    "Swap the values of these variables without using any temporary\n",
    "variable.'''\n",
    "\n",
    "x, y = 10, 20 #declaring and assigning variables \n",
    "print('Before swap:', '\\nx =',x,'\\ny =',y)\n",
    "y, x = x, y # swap\n",
    "print('After swap:', '\\nx =',x,'\\ny =',y)"
   ]
  },
  {
   "cell_type": "code",
   "execution_count": 2,
   "id": "3671d833-400b-4192-9ca0-d5b5a628ec71",
   "metadata": {},
   "outputs": [
    {
     "name": "stdin",
     "output_type": "stream",
     "text": [
      "Enter the length of rectangle: 15\n",
      "Enter the width of rectangle: 20\n"
     ]
    },
    {
     "name": "stdout",
     "output_type": "stream",
     "text": [
      "Area of the rectangle is 300.0 sq unit\n"
     ]
    }
   ],
   "source": [
    "'''Create a program that calculates the area of a rectangle. Take the\n",
    "length and width as inputs from the user and store them in variables.\n",
    "Calculate and display the area.'''\n",
    "\n",
    "length = float(input('Enter the length of rectangle:'))\n",
    "width = float(input('Enter the width of rectangle:'))\n",
    "area_rectangle = length * width # formula of area of rectangle\n",
    "print(\"Area of the rectangle is\",area_rectangle,\"sq unit\")"
   ]
  },
  {
   "cell_type": "code",
   "execution_count": 3,
   "id": "8f0737e4-ef7b-4c6e-91ac-f09dd0e9be13",
   "metadata": {},
   "outputs": [
    {
     "name": "stdin",
     "output_type": "stream",
     "text": [
      "Enter the temperature in celsius: 10\n"
     ]
    },
    {
     "name": "stdout",
     "output_type": "stream",
     "text": [
      "Temperature is 50.0 degree Fahrenheit\n"
     ]
    }
   ],
   "source": [
    "'''Write a Python program that converts temperature from Celsius to\n",
    "Fahrenheit. Take the temperature in Celsius as input, store it in a\n",
    "variable, convert it to Fahrenheit, and display the result.'''\n",
    "\n",
    "cels = float(input('Enter the temperature in celsius:'))\n",
    "fahr = (cels * 9.0/5.0) + 32.0 #formula for the conversion from celcius to fahrenheit\n",
    "print(\"Temperature is\",fahr,\"degree Fahrenheit\")"
   ]
  },
  {
   "cell_type": "markdown",
   "id": "65772460-1364-4f10-9c49-1df829f6140e",
   "metadata": {},
   "source": [
    "TOPIC: String Based Questions"
   ]
  },
  {
   "cell_type": "code",
   "execution_count": 4,
   "id": "a6abfab6-2da3-4976-a448-b78ab378dce7",
   "metadata": {},
   "outputs": [
    {
     "name": "stdin",
     "output_type": "stream",
     "text": [
      "Enter a string: amiya\n"
     ]
    },
    {
     "name": "stdout",
     "output_type": "stream",
     "text": [
      "Length of the user's input string: 5\n"
     ]
    }
   ],
   "source": [
    "'''Write a Python program that takes a string as input and prints the\n",
    "length of the string.'''\n",
    "\n",
    "user_input = input('Enter a string:')\n",
    "length_user_input = len(user_input) # finding the length of the string\n",
    "print(\"Length of the user's input string: \"+str(length_user_input))"
   ]
  },
  {
   "cell_type": "code",
   "execution_count": 5,
   "id": "a115e984-e875-4359-9138-4ba002231db6",
   "metadata": {},
   "outputs": [
    {
     "name": "stdin",
     "output_type": "stream",
     "text": [
      "Enter a sentence: amiya is the best\n"
     ]
    },
    {
     "name": "stdout",
     "output_type": "stream",
     "text": [
      "Number of vowels in the statement = 6\n"
     ]
    }
   ],
   "source": [
    "'''Create a program that takes a sentence from the user and counts the\n",
    "number of vowels (a, e, i, o, u) in the string.'''\n",
    "\n",
    "user_input = input('Enter a sentence:')\n",
    "no_of_vowels = 0\n",
    "for i in user_input: # iterate over each character\n",
    "    if i in ('a','e','i','o','u'): # check for vowels\n",
    "        no_of_vowels = no_of_vowels + 1\n",
    "print('Number of vowels in the statement =', no_of_vowels)"
   ]
  },
  {
   "cell_type": "code",
   "execution_count": 6,
   "id": "f4c417fb-197c-4679-af30-889609619ed8",
   "metadata": {},
   "outputs": [
    {
     "name": "stdout",
     "output_type": "stream",
     "text": [
      "Reverse order:  tseb si ayimA\n"
     ]
    }
   ],
   "source": [
    "'''Given a string, reverse the order of characters using string slicing and\n",
    "print the reversed string.'''\n",
    "\n",
    "input_str = 'Amiya is best'\n",
    "reverse_input_str = input_str[::-1]\n",
    "print('Reverse order: ',reverse_input_str)"
   ]
  },
  {
   "cell_type": "code",
   "execution_count": 9,
   "id": "d56a6511-75a0-4f4f-a2c8-4d9460b48a69",
   "metadata": {},
   "outputs": [
    {
     "name": "stdin",
     "output_type": "stream",
     "text": [
      "Enter a string: madam\n"
     ]
    },
    {
     "name": "stdout",
     "output_type": "stream",
     "text": [
      "Is entered string palindrome: True\n"
     ]
    }
   ],
   "source": [
    "'''Write a program that takes a string as input and checks if it is a\n",
    "palindrome (reads the same forwards and backwards).'''\n",
    "\n",
    "input_str = input('Enter a string:')\n",
    "is_palidrome = False\n",
    "if input_str == input_str[::-1]:\n",
    "    is_palidrome = True\n",
    "print('Is entered string palindrome:', is_palidrome)"
   ]
  },
  {
   "cell_type": "code",
   "execution_count": 10,
   "id": "18219c67-b86a-4b91-96f5-44c8a2f537e7",
   "metadata": {},
   "outputs": [
    {
     "name": "stdin",
     "output_type": "stream",
     "text": [
      "Enter a string: amiya is the best\n"
     ]
    },
    {
     "name": "stdout",
     "output_type": "stream",
     "text": [
      "Modified string: amiyaisthebest\n"
     ]
    }
   ],
   "source": [
    "'''Create a program that takes a string as input and removes all the\n",
    "spaces from it. Print the modified string without spaces.'''\n",
    "\n",
    "input_str = input('Enter a string:')\n",
    "modified_str = input_str.replace(' ','')\n",
    "print('Modified string: '+modified_str)"
   ]
  },
  {
   "cell_type": "code",
   "execution_count": null,
   "id": "06e15234-afad-4e6a-b52b-a882142fe333",
   "metadata": {},
   "outputs": [],
   "source": []
  }
 ],
 "metadata": {
  "kernelspec": {
   "display_name": "Python 3 (ipykernel)",
   "language": "python",
   "name": "python3"
  },
  "language_info": {
   "codemirror_mode": {
    "name": "ipython",
    "version": 3
   },
   "file_extension": ".py",
   "mimetype": "text/x-python",
   "name": "python",
   "nbconvert_exporter": "python",
   "pygments_lexer": "ipython3",
   "version": "3.10.8"
  }
 },
 "nbformat": 4,
 "nbformat_minor": 5
}

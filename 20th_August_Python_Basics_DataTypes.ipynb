{
 "cells": [
  {
   "cell_type": "markdown",
   "id": "f64174c0-4794-480d-90bc-a38f40fbf8d0",
   "metadata": {},
   "source": [
    "TOPIC: String Based Assignment Problem"
   ]
  },
  {
   "cell_type": "code",
   "execution_count": 1,
   "id": "542f83b3-3874-482a-b530-c9f5583b61ac",
   "metadata": {},
   "outputs": [
    {
     "name": "stdin",
     "output_type": "stream",
     "text": [
      "Enter a string: Amiya is best\n"
     ]
    },
    {
     "name": "stdout",
     "output_type": "stream",
     "text": [
      "Reverse order:  tseb si ayimA\n"
     ]
    }
   ],
   "source": [
    "'''1. Write a program to reverse a string.'''\n",
    "\n",
    "input_str = input('Enter a string:')\n",
    "reverse_input_str = input_str[::-1]\n",
    "print('Reverse order: ',reverse_input_str)"
   ]
  },
  {
   "cell_type": "code",
   "execution_count": 4,
   "id": "3671d833-400b-4192-9ca0-d5b5a628ec71",
   "metadata": {},
   "outputs": [
    {
     "name": "stdin",
     "output_type": "stream",
     "text": [
      "Enter a string: amiya\n"
     ]
    },
    {
     "name": "stdout",
     "output_type": "stream",
     "text": [
      "Is entered string palindrome: False\n"
     ]
    }
   ],
   "source": [
    "'''2. Check if a string is a palindrome.'''\n",
    "\n",
    "input_str = input('Enter a string:')\n",
    "is_palidrome = False\n",
    "if input_str == input_str[::-1]:\n",
    "    is_palidrome = True\n",
    "print('Is entered string palindrome:', is_palidrome)"
   ]
  },
  {
   "cell_type": "code",
   "execution_count": 6,
   "id": "8f0737e4-ef7b-4c6e-91ac-f09dd0e9be13",
   "metadata": {},
   "outputs": [
    {
     "name": "stdin",
     "output_type": "stream",
     "text": [
      "Enter a string: Amiya\n"
     ]
    },
    {
     "name": "stdout",
     "output_type": "stream",
     "text": [
      "Uppercase of input string:  AMIYA\n"
     ]
    }
   ],
   "source": [
    "'''3. Convert a string to uppercase.'''\n",
    "\n",
    "input_str = input('Enter a string:')\n",
    "print(\"Uppercase of input string: \",input_str.upper())"
   ]
  },
  {
   "cell_type": "code",
   "execution_count": 6,
   "id": "b9176090-a3d5-4944-bf19-e83395311cf5",
   "metadata": {},
   "outputs": [
    {
     "name": "stdin",
     "output_type": "stream",
     "text": [
      "Enter a string: Amiya is best\n"
     ]
    },
    {
     "name": "stdout",
     "output_type": "stream",
     "text": [
      "Uppercase of input string:  amiya is best\n"
     ]
    }
   ],
   "source": [
    "'''4. Convert a string to lowercase.'''\n",
    "\n",
    "input_str = input('Enter a string:')\n",
    "print(\"Uppercase of input string: \",input_str.lower())"
   ]
  },
  {
   "cell_type": "code",
   "execution_count": 7,
   "id": "77288bd1-0322-4fe2-be44-ed9002084171",
   "metadata": {},
   "outputs": [
    {
     "name": "stdin",
     "output_type": "stream",
     "text": [
      "Enter a sentence: Amiya\n"
     ]
    },
    {
     "name": "stdout",
     "output_type": "stream",
     "text": [
      "Number of vowels in the statement = 3\n"
     ]
    }
   ],
   "source": [
    "'''5. Count the number of vowels in a string.'''\n",
    "\n",
    "user_input = input('Enter a sentence:')\n",
    "no_of_vowels = 0\n",
    "for i in user_input: # iterate over each character\n",
    "    if i.lower() in ('a','e','i','o','u'): # check for vowels\n",
    "        no_of_vowels = no_of_vowels + 1\n",
    "print('Number of vowels in the statement =', no_of_vowels)"
   ]
  },
  {
   "cell_type": "code",
   "execution_count": 8,
   "id": "2063ecf3-6905-4ef5-b69c-8a70c1905ded",
   "metadata": {},
   "outputs": [
    {
     "name": "stdin",
     "output_type": "stream",
     "text": [
      "Enter a sentence: Amiya\n"
     ]
    },
    {
     "name": "stdout",
     "output_type": "stream",
     "text": [
      "Number of consonants in the statement = 2\n"
     ]
    }
   ],
   "source": [
    "'''6. Count the number of consonants in a string.'''\n",
    "\n",
    "user_input = input('Enter a sentence:')\n",
    "no_of_consonants = 0\n",
    "for i in user_input: # iterate over each character\n",
    "    if i.lower() not in ('a','e','i','o','u'): # check for vowels\n",
    "        no_of_consonants = no_of_consonants + 1\n",
    "print('Number of consonants in the statement =', no_of_consonants)"
   ]
  },
  {
   "cell_type": "code",
   "execution_count": 9,
   "id": "85d77fb3-c6f7-4def-bab2-2f694106054b",
   "metadata": {},
   "outputs": [
    {
     "name": "stdin",
     "output_type": "stream",
     "text": [
      "Enter a string:  Amiya is best \n"
     ]
    },
    {
     "name": "stdout",
     "output_type": "stream",
     "text": [
      "Modified string: Amiyaisbest\n"
     ]
    }
   ],
   "source": [
    "'''7. Remove all whitespaces from a string.'''\n",
    "\n",
    "input_str = input('Enter a string:')\n",
    "modified_str = input_str.replace(' ','')\n",
    "print('Modified string: '+modified_str)"
   ]
  },
  {
   "cell_type": "code",
   "execution_count": 11,
   "id": "3d4702ce-9073-415e-9f74-0f73c22a1239",
   "metadata": {},
   "outputs": [
    {
     "name": "stdin",
     "output_type": "stream",
     "text": [
      "Enter a string: Amiya is best\n"
     ]
    },
    {
     "name": "stdout",
     "output_type": "stream",
     "text": [
      "Length of the user's input string: 13\n"
     ]
    }
   ],
   "source": [
    "'''8. Find the length of a string without using the `len()` function.'''\n",
    "\n",
    "input_str = input('Enter a string:')\n",
    "length_user_input = 0\n",
    "for i in input_str:\n",
    "    length_user_input += 1\n",
    "print(\"Length of the user's input string: \"+str(length_user_input))"
   ]
  },
  {
   "cell_type": "code",
   "execution_count": 15,
   "id": "a3f4953b-525e-4352-b201-b68ca52b492b",
   "metadata": {},
   "outputs": [
    {
     "name": "stdout",
     "output_type": "stream",
     "text": [
      "Is specific word present: True\n"
     ]
    }
   ],
   "source": [
    "'''9. Check if a string contains a specific word.'''\n",
    "\n",
    "complete_str = \"Amiya is best\"\n",
    "check_str = \"Amiya\"\n",
    "check_word = False\n",
    "if check_str in complete_str:\n",
    "    check_word = True\n",
    "print(\"Is specific word present: \"+str(check_word))"
   ]
  },
  {
   "cell_type": "code",
   "execution_count": 17,
   "id": "ad67acb9-176b-46af-b514-5107ee93d9fc",
   "metadata": {},
   "outputs": [
    {
     "name": "stdout",
     "output_type": "stream",
     "text": [
      "Modified string: Amiya Pani is best\n"
     ]
    }
   ],
   "source": [
    "'''10. Replace a word in a string with another word.'''\n",
    "\n",
    "input_str = \"Amiya is best\"\n",
    "replace_word = \"Amiya Pani\"\n",
    "modified_str = input_str.replace('Amiya',replace_word)\n",
    "print(\"Modified string: \"+str(modified_str))"
   ]
  },
  {
   "cell_type": "code",
   "execution_count": 18,
   "id": "76a9e46e-86a0-4a5d-9d5d-1b8fa52603bd",
   "metadata": {},
   "outputs": [
    {
     "name": "stdout",
     "output_type": "stream",
     "text": [
      "The word 'love' appears 2 times.\n"
     ]
    }
   ],
   "source": [
    "\"\"\"11. Count the occurrences of a word in a string.\"\"\"\n",
    "\n",
    "input_str = \"I am student. I love programming. Also i love playing football.\"\n",
    "word = 'love'\n",
    "\n",
    "occurrences = input_str.lower().count(word.lower())\n",
    "print(f\"The word '{word}' appears {occurrences} times.\")"
   ]
  },
  {
   "cell_type": "code",
   "execution_count": 20,
   "id": "a8b99b3d-9b5d-45d3-bc29-6d325b66622a",
   "metadata": {},
   "outputs": [
    {
     "name": "stdout",
     "output_type": "stream",
     "text": [
      "The word 'love' appears at 16 index first time.\n",
      "16\n"
     ]
    }
   ],
   "source": [
    "\"\"\"12. Find the first occurrence of a word in a string.\"\"\"\n",
    "\n",
    "input_str = \"I am student. I love programming. Also i love playing football.\"\n",
    "word = 'love'\n",
    "first_occurrence = input_str.find(word)\n",
    "print(f\"The word '{word}' appears at {first_occurrence} index first time.\")"
   ]
  },
  {
   "cell_type": "code",
   "execution_count": 21,
   "id": "daf6e45b-27be-433a-bc07-78996e80c054",
   "metadata": {},
   "outputs": [
    {
     "name": "stdout",
     "output_type": "stream",
     "text": [
      "The word 'love' appears at 41 index last time.\n"
     ]
    }
   ],
   "source": [
    "\"\"\"13. Find the last occurrence of a word in a string.\"\"\"\n",
    "\n",
    "input_str = \"I am student. I love programming. Also i love playing football.\"\n",
    "word = 'love'\n",
    "last_occurrence = input_str.rfind(word)\n",
    "print(f\"The word '{word}' appears at {last_occurrence} index last time.\")"
   ]
  },
  {
   "cell_type": "code",
   "execution_count": 23,
   "id": "8f9c3b98-5436-45e2-b3f1-3337505bc4e3",
   "metadata": {},
   "outputs": [
    {
     "name": "stdout",
     "output_type": "stream",
     "text": [
      "['Amiya', 'is', 'best']\n"
     ]
    }
   ],
   "source": [
    "\"\"\"14. Split a string into a list of words.\"\"\"\n",
    "\n",
    "sentence = \"Amiya is best\"\n",
    "word_list = sentence.split(\" \") #without the parameter in the split it can be done too\n",
    "print(f\"{word_list}\")"
   ]
  },
  {
   "cell_type": "code",
   "execution_count": 24,
   "id": "a6abfab6-2da3-4976-a448-b78ab378dce7",
   "metadata": {},
   "outputs": [
    {
     "name": "stdout",
     "output_type": "stream",
     "text": [
      "Amiya is best\n"
     ]
    }
   ],
   "source": [
    "\"\"\"15. Join a list of words into a string.\"\"\"\n",
    "\n",
    "word_list = ['Amiya', 'is', 'best']\n",
    "sentence = \" \".join(word_list)\n",
    "print(f\"{sentence}\")"
   ]
  },
  {
   "cell_type": "code",
   "execution_count": 26,
   "id": "a115e984-e875-4359-9138-4ba002231db6",
   "metadata": {},
   "outputs": [
    {
     "name": "stdout",
     "output_type": "stream",
     "text": [
      "Modified string: Amiya_is_best\n"
     ]
    }
   ],
   "source": [
    "\"\"\"16. Convert a string where words are separated by spaces to one where words are separated by underscores.\"\"\"\n",
    "\n",
    "sentence = \"Amiya is best\"\n",
    "modified_str = sentence.replace(' ','_')\n",
    "print(\"Modified string: \"+str(modified_str))"
   ]
  },
  {
   "cell_type": "code",
   "execution_count": 28,
   "id": "f4c417fb-197c-4679-af30-889609619ed8",
   "metadata": {},
   "outputs": [
    {
     "name": "stdout",
     "output_type": "stream",
     "text": [
      "Does the sentence starts with Amiya: True\n",
      "Does the sentence starts with Arnold: False\n"
     ]
    }
   ],
   "source": [
    "\"\"\"17. Check if a string starts with a specific word or phrase.\"\"\"\n",
    "\n",
    "sentence = \"Amiya is best\"\n",
    "postive_case = sentence.startswith(\"Amiya\")\n",
    "negative_case = sentence.startswith(\"Arnold\")\n",
    "print(f\"Does the sentence starts with Amiya: {postive_case}\")\n",
    "print(f\"Does the sentence starts with Arnold: {negative_case}\")"
   ]
  },
  {
   "cell_type": "code",
   "execution_count": 29,
   "id": "d56a6511-75a0-4f4f-a2c8-4d9460b48a69",
   "metadata": {},
   "outputs": [
    {
     "name": "stdout",
     "output_type": "stream",
     "text": [
      "Does the sentence ends with best: True\n",
      "Does the sentence ends with awesome: False\n"
     ]
    }
   ],
   "source": [
    "\"\"\"18. Check if a string ends with a specific word or phrase.\"\"\"\n",
    "\n",
    "sentence = \"Amiya is best\"\n",
    "postive_case = sentence.endswith(\"best\")\n",
    "negative_case = sentence.endswith(\"awesome\")\n",
    "print(f\"Does the sentence ends with best: {postive_case}\")\n",
    "print(f\"Does the sentence ends with awesome: {negative_case}\")"
   ]
  },
  {
   "cell_type": "code",
   "execution_count": 30,
   "id": "18219c67-b86a-4b91-96f5-44c8a2f537e7",
   "metadata": {},
   "outputs": [
    {
     "name": "stdin",
     "output_type": "stream",
     "text": [
      "Enter a string: Amiya is best\n"
     ]
    },
    {
     "name": "stdout",
     "output_type": "stream",
     "text": [
      "Title case of the provided input: Amiya Is Best\n"
     ]
    }
   ],
   "source": [
    "'''19. Convert a string to title case (e.g., \"hello world\" to \"Hello World\").'''\n",
    "\n",
    "input_str = input('Enter a string:')\n",
    "modified_str = input_str.title()\n",
    "print('Title case of the provided input: '+modified_str)"
   ]
  },
  {
   "cell_type": "code",
   "execution_count": 41,
   "id": "06e15234-afad-4e6a-b52b-a882142fe333",
   "metadata": {},
   "outputs": [
    {
     "name": "stdout",
     "output_type": "stream",
     "text": [
      "'football' is the longest word in the string\n"
     ]
    }
   ],
   "source": [
    "'''20. Find the longest word in a string.'''\n",
    "\n",
    "sentence = \"Amiya is best. Amiya likes toplay football and chess\"\n",
    "words = sentence.split()\n",
    "\n",
    "longest_word = max(words, key=len)\n",
    "print(f\"'{longest_word}' is the longest word in the string\")"
   ]
  },
  {
   "cell_type": "code",
   "execution_count": 42,
   "id": "941aa2c6-3081-4cf7-beb8-51bf2be77d4b",
   "metadata": {},
   "outputs": [
    {
     "name": "stdout",
     "output_type": "stream",
     "text": [
      "'is' is the shortest word in the string\n"
     ]
    }
   ],
   "source": [
    "'''21. Find the shortest word in a string.'''\n",
    "\n",
    "sentence = \"Amiya is best. Amiya likes toplay football and chess\"\n",
    "words = sentence.split()\n",
    "\n",
    "shortest_word = min(words, key=len)\n",
    "print(f\"'{shortest_word}' is the shortest word in the string\")"
   ]
  },
  {
   "cell_type": "code",
   "execution_count": 47,
   "id": "457da497-1a90-411e-b4db-9713acdffa4b",
   "metadata": {},
   "outputs": [
    {
     "name": "stdout",
     "output_type": "stream",
     "text": [
      "Reverse order of words = chess and football toplay likes Amiya best. is Amiya\n"
     ]
    }
   ],
   "source": [
    "'''22. Reverse the order of words in a string.'''\n",
    "\n",
    "sentence = \"Amiya is best. Amiya likes toplay football and chess\"\n",
    "words = sentence.split()\n",
    "words = words[::-1]\n",
    "reverse_order = \" \".join(words)\n",
    "print(f\"Reverse order of words = {reverse_order}\")"
   ]
  },
  {
   "cell_type": "code",
   "execution_count": 58,
   "id": "71200fdf-adcb-4a6b-ba4d-8d13e29fbf5a",
   "metadata": {},
   "outputs": [
    {
     "name": "stdout",
     "output_type": "stream",
     "text": [
      "string is alphanumeric: True\n"
     ]
    }
   ],
   "source": [
    "'''23. Check if a string is alphanumeric.'''\n",
    "\n",
    "sentence = \"Amiya1\"\n",
    "print(f\"string is alphanumeric: {sentence.isalnum()}\")"
   ]
  },
  {
   "cell_type": "code",
   "execution_count": 88,
   "id": "fc305ff6-cdca-49b8-8b0e-45c9cf7baf50",
   "metadata": {},
   "outputs": [
    {
     "name": "stdout",
     "output_type": "stream",
     "text": [
      "Digits in the string are: 1124\n"
     ]
    }
   ],
   "source": [
    "'''24. Extract all digits from a string.'''\n",
    "\n",
    "sentence = \"Amiya1 is best12 4\"\n",
    "digits = ''.join([char for char in sentence if char.isdigit()])\n",
    "        \n",
    "print(f\"Digits in the string are: {digits}\")"
   ]
  },
  {
   "cell_type": "code",
   "execution_count": 89,
   "id": "47973e80-df9d-43c2-aac8-68670295f104",
   "metadata": {},
   "outputs": [
    {
     "name": "stdout",
     "output_type": "stream",
     "text": [
      "Alphabetic characters extracted from the string: Hellothisisyearwithsymbols\n"
     ]
    }
   ],
   "source": [
    "'''25. Extract all alphabets from a string.'''\n",
    "\n",
    "text = \"Hello 123, this is year 2024 with #symbols!\"\n",
    "alphabets = ''.join([char for char in text if char.isalpha()])\n",
    "print(f\"Alphabetic characters extracted from the string: {alphabets}\")"
   ]
  },
  {
   "cell_type": "code",
   "execution_count": 90,
   "id": "601e8fd5-d624-4e81-bca8-1fbbebf21fae",
   "metadata": {},
   "outputs": [
    {
     "name": "stdout",
     "output_type": "stream",
     "text": [
      "Number of uppercase letters in the string: 14\n"
     ]
    }
   ],
   "source": [
    "'''26. Count the number of uppercase letters in a string.'''\n",
    "\n",
    "text = \"Hello World! This Is An EXAMPLE of Uppercase Letters.\"\n",
    "uppercase_count = sum(1 for char in text if char.isupper())\n",
    "print(f\"Number of uppercase letters in the string: {uppercase_count}\")"
   ]
  },
  {
   "cell_type": "code",
   "execution_count": 91,
   "id": "76d1b501-0d68-46a4-b801-16cf1f30e6a6",
   "metadata": {},
   "outputs": [
    {
     "name": "stdout",
     "output_type": "stream",
     "text": [
      "Number of lowercase letters in the string: 29\n"
     ]
    }
   ],
   "source": [
    "'''27. Count the number of lowercase letters in a string.'''\n",
    "\n",
    "text = \"Hello World! This Is An EXAMPLE of Uppercase Letters.\"\n",
    "lowercase_count = sum(1 for char in text if char.islower())\n",
    "print(f\"Number of lowercase letters in the string: {lowercase_count}\")"
   ]
  },
  {
   "cell_type": "code",
   "execution_count": 92,
   "id": "4b1bfd7f-40d0-4166-a6d0-9cdcbc28aa06",
   "metadata": {},
   "outputs": [
    {
     "name": "stdout",
     "output_type": "stream",
     "text": [
      "Original text: Hello World! This Is An EXAMPLE of Case Swapping.\n",
      "Swapped case text: hELLO wORLD! tHIS iS aN example OF cASE sWAPPING.\n"
     ]
    }
   ],
   "source": [
    "'''28. Swap the case of each character in a string.'''\n",
    "\n",
    "text = \"Hello World! This Is An EXAMPLE of Case Swapping.\"\n",
    "swapped_text = text.swapcase()\n",
    "print(f\"Original text: {text}\")\n",
    "print(f\"Swapped case text: {swapped_text}\")"
   ]
  },
  {
   "cell_type": "code",
   "execution_count": 93,
   "id": "967390fb-aaf3-49b7-846d-b24ea2ccb6a8",
   "metadata": {},
   "outputs": [
    {
     "name": "stdout",
     "output_type": "stream",
     "text": [
      "Original text: This is a sample text with a word to remove.\n",
      "Cleaned text: This is a sample text with a word to .\n"
     ]
    }
   ],
   "source": [
    "'''29. Remove a specific word from a string.'''\n",
    "\n",
    "text = \"This is a sample text with a word to remove.\"\n",
    "word_to_remove = \"remove\"\n",
    "cleaned_text = text.replace(word_to_remove, \"\")\n",
    "\n",
    "print(f\"Original text: {text}\")\n",
    "print(f\"Cleaned text: {cleaned_text}\")"
   ]
  },
  {
   "cell_type": "code",
   "execution_count": 103,
   "id": "3c507292-6fd2-4c3e-a550-5d9b78b22900",
   "metadata": {},
   "outputs": [
    {
     "name": "stdout",
     "output_type": "stream",
     "text": [
      "'eramiyap@gmail.com' is a valid email address: True\n",
      "'not-an-email' is a valid email address: False\n"
     ]
    }
   ],
   "source": [
    "'''30. Check if a string is a valid email address.'''\n",
    "import re\n",
    "email_pattern = r'^[\\w\\.-]+@[\\w\\.-]+\\.\\w+$'\n",
    "\n",
    "def is_valid_email(email):\n",
    "    if re.match(email_pattern, email):\n",
    "        return True\n",
    "    else:\n",
    "        return False\n",
    "\n",
    "email = \"eramiyap@gmail.com\"\n",
    "print(f\"'{email}' is a valid email address: {is_valid_email(email)}\")\n",
    "\n",
    "email = \"not-an-email\"\n",
    "print(f\"'{email}' is a valid email address: {is_valid_email(email)}\")"
   ]
  },
  {
   "cell_type": "code",
   "execution_count": 106,
   "id": "14f98488-c572-48a5-85f4-50dd86129d51",
   "metadata": {},
   "outputs": [
    {
     "name": "stdout",
     "output_type": "stream",
     "text": [
      "Username: eramiyap\n"
     ]
    }
   ],
   "source": [
    "'''31. Extract the username from an email address string.'''\n",
    "\n",
    "email = \"eramiyap@gmail.com\"\n",
    "username = email.split('@')[0]\n",
    "\n",
    "print(f\"Username: {username}\")"
   ]
  },
  {
   "cell_type": "code",
   "execution_count": 107,
   "id": "b6e5df5f-4990-4cd0-91de-f59ba8545a64",
   "metadata": {},
   "outputs": [
    {
     "name": "stdout",
     "output_type": "stream",
     "text": [
      "Domain name: gmail.com\n"
     ]
    }
   ],
   "source": [
    "'''32. Extract the domain name from an email address string.'''\n",
    "\n",
    "email = \"eramiyap@gmail.com\"\n",
    "domain_name = email.split('@')[1]\n",
    "\n",
    "print(f\"Domain name: {domain_name}\")"
   ]
  },
  {
   "cell_type": "code",
   "execution_count": 108,
   "id": "60d9c716-e397-4577-986e-fdd8c735abbe",
   "metadata": {},
   "outputs": [
    {
     "name": "stdout",
     "output_type": "stream",
     "text": [
      "This is a string with multiple spaces.\n"
     ]
    }
   ],
   "source": [
    "'''33. Replace multiple spaces in a string with a single space.'''\n",
    "import re\n",
    "string_with_spaces = \"This    is  a  string with   multiple      spaces.\"\n",
    "cleaned_string = re.sub(r'\\s+', ' ', string_with_spaces)\n",
    "\n",
    "print(cleaned_string)"
   ]
  },
  {
   "cell_type": "code",
   "execution_count": 110,
   "id": "67a1cce1-ad7f-4198-8fcc-dab9da55d836",
   "metadata": {},
   "outputs": [
    {
     "name": "stdout",
     "output_type": "stream",
     "text": [
      "'https://www.google.com' is a valid URL: True\n",
      "'not-a-valid-url' is a valid URL: False\n"
     ]
    }
   ],
   "source": [
    "'''34. Check if a string is a valid URL.'''\n",
    "from urllib.parse import urlparse\n",
    "\n",
    "def is_valid_url(url):\n",
    "    try:\n",
    "        result = urlparse(url)\n",
    "        return all([result.scheme, result.netloc])\n",
    "    except:\n",
    "        return False\n",
    "\n",
    "url = \"https://www.google.com\"\n",
    "print(f\"'{url}' is a valid URL: {is_valid_url(url)}\")\n",
    "\n",
    "url = \"not-a-valid-url\"\n",
    "print(f\"'{url}' is a valid URL: {is_valid_url(url)}\")"
   ]
  },
  {
   "cell_type": "code",
   "execution_count": 112,
   "id": "bad724d9-52d4-4bee-8e6f-dbff6ed0e752",
   "metadata": {},
   "outputs": [
    {
     "name": "stdout",
     "output_type": "stream",
     "text": [
      "The protocol of 'https://www.google.com' is: https\n",
      "The protocol of 'http://google.org' is: http\n"
     ]
    }
   ],
   "source": [
    "'''35. Extract the protocol (http or https) from a URL string.'''\n",
    "from urllib.parse import urlparse\n",
    "\n",
    "def extract_protocol(url):\n",
    "    parsed_url = urlparse(url)\n",
    "    return parsed_url.scheme\n",
    "\n",
    "\n",
    "url = \"https://www.google.com\"\n",
    "protocol = extract_protocol(url)\n",
    "print(f\"The protocol of '{url}' is: {protocol}\")\n",
    "\n",
    "url = \"http://google.org\"\n",
    "protocol = extract_protocol(url)\n",
    "print(f\"The protocol of '{url}' is: {protocol}\")"
   ]
  },
  {
   "cell_type": "code",
   "execution_count": 113,
   "id": "e7865507-d69f-4bbc-baa8-f83a86405174",
   "metadata": {},
   "outputs": [
    {
     "name": "stdout",
     "output_type": "stream",
     "text": [
      "Character frequencies:\n",
      "'h': 1\n",
      "'e': 1\n",
      "'l': 3\n",
      "'o': 2\n",
      "' ': 1\n",
      "'w': 1\n",
      "'r': 1\n",
      "'d': 1\n"
     ]
    }
   ],
   "source": [
    "'''36. Find the frequency of each character in a string.'''\n",
    "def character_frequency(string):\n",
    "    frequency = {}\n",
    "    for char in string:\n",
    "        frequency[char] = frequency.get(char, 0) + 1\n",
    "    return frequency\n",
    "\n",
    "string = \"hello world\"\n",
    "char_freq = character_frequency(string)\n",
    "print(\"Character frequencies:\")\n",
    "for char, freq in char_freq.items():\n",
    "    print(f\"'{char}': {freq}\")"
   ]
  },
  {
   "cell_type": "code",
   "execution_count": 114,
   "id": "02735063-a0e6-4261-b873-76cfdd8f8550",
   "metadata": {},
   "outputs": [
    {
     "name": "stdout",
     "output_type": "stream",
     "text": [
      "Text without punctuation: Hello This is a test string with some punctuation Isnt it great\n"
     ]
    }
   ],
   "source": [
    "'''37. Remove all punctuation from a string.'''\n",
    "import string\n",
    "\n",
    "def remove_punctuation(text):\n",
    "    punctuation_chars = string.punctuation\n",
    "    text_without_punctuation = \"\"\n",
    "    \n",
    "    for char in text:\n",
    "        if char not in punctuation_chars:\n",
    "            text_without_punctuation += char            \n",
    "    return text_without_punctuation\n",
    "\n",
    "text_with_punctuation = \"Hello! This is a test string, with some punctuation. Isn't it great?\"\n",
    "text_without_punctuation = remove_punctuation(text_with_punctuation)\n",
    "print(\"Text without punctuation:\", text_without_punctuation)"
   ]
  },
  {
   "cell_type": "code",
   "execution_count": 115,
   "id": "ab913bba-d867-4647-abb1-4bf4cc4314a5",
   "metadata": {},
   "outputs": [
    {
     "name": "stdout",
     "output_type": "stream",
     "text": [
      "'12345' contains only digits: True\n",
      "'123abc' contains only digits: False\n"
     ]
    }
   ],
   "source": [
    "'''38. Check if a string contains only digits.'''\n",
    "\n",
    "def contains_only_digits(text):\n",
    "    return text.isdigit()\n",
    "\n",
    "text1 = \"12345\"\n",
    "print(f\"'{text1}' contains only digits: {contains_only_digits(text1)}\")\n",
    "\n",
    "text2 = \"123abc\"\n",
    "print(f\"'{text2}' contains only digits: {contains_only_digits(text2)}\")"
   ]
  },
  {
   "cell_type": "code",
   "execution_count": 116,
   "id": "3780efd1-fa29-4038-a39a-9043fc9f1bd4",
   "metadata": {},
   "outputs": [
    {
     "name": "stdout",
     "output_type": "stream",
     "text": [
      "'abcdef' contains only alphabets: True\n",
      "'abc123' contains only alphabets: False\n"
     ]
    }
   ],
   "source": [
    "'''39. Check if a string contains only alphabets.'''\n",
    "\n",
    "def contains_only_alphabets(text):\n",
    "    return text.isalpha()\n",
    "\n",
    "text1 = \"abcdef\"\n",
    "print(f\"'{text1}' contains only alphabets: {contains_only_alphabets(text1)}\")\n",
    "\n",
    "text2 = \"abc123\"\n",
    "print(f\"'{text2}' contains only alphabets: {contains_only_alphabets(text2)}\")"
   ]
  },
  {
   "cell_type": "code",
   "execution_count": 117,
   "id": "996200bb-342a-4d4c-8e7c-cf2d19684da1",
   "metadata": {},
   "outputs": [
    {
     "name": "stdout",
     "output_type": "stream",
     "text": [
      "List of characters: ['h', 'e', 'l', 'l', 'o']\n"
     ]
    }
   ],
   "source": [
    "'''40. Convert a string to a list of characters.'''\n",
    "text = \"hello\"\n",
    "char_list = list(text)\n",
    "print(\"List of characters:\", char_list)"
   ]
  },
  {
   "cell_type": "code",
   "execution_count": 119,
   "id": "b5a8f496-6a8b-4ec4-99a0-51ebc2ccf5b0",
   "metadata": {},
   "outputs": [
    {
     "name": "stdout",
     "output_type": "stream",
     "text": [
      "'listen' and 'silent' are anagrams: True\n",
      "'hello' and 'world' are anagrams: False\n"
     ]
    }
   ],
   "source": [
    "'''41. Check if two strings are anagrams.'''\n",
    "def are_anagrams(string1, string2):\n",
    "    string1 = string1.replace(\" \", \"\").lower()\n",
    "    string2 = string2.replace(\" \", \"\").lower()\n",
    "    \n",
    "    return sorted(string1) == sorted(string2)\n",
    "\n",
    "string1 = \"listen\"\n",
    "string2 = \"silent\"\n",
    "print(f\"'{string1}' and '{string2}' are anagrams: {are_anagrams(string1, string2)}\")\n",
    "\n",
    "string1 = \"hello\"\n",
    "string2 = \"world\"\n",
    "print(f\"'{string1}' and '{string2}' are anagrams: {are_anagrams(string1, string2)}\")"
   ]
  },
  {
   "cell_type": "code",
   "execution_count": 120,
   "id": "094e3f65-cb61-4c4a-9e35-593686788eb3",
   "metadata": {},
   "outputs": [
    {
     "name": "stdout",
     "output_type": "stream",
     "text": [
      "Encoded text: Khoor, Zruog!\n"
     ]
    }
   ],
   "source": [
    "'''42. Encode a string using a Caesar cipher.'''\n",
    "def caesar_cipher(text, shift):\n",
    "    encoded_text = \"\"\n",
    "\n",
    "    for char in text:\n",
    "        if char.isupper():\n",
    "            encoded_char = chr((ord(char) - 65 + shift) % 26 + 65)\n",
    "        elif char.islower():\n",
    "            encoded_char = chr((ord(char) - 97 + shift) % 26 + 97)\n",
    "        else:\n",
    "            encoded_char = char\n",
    "        encoded_text += encoded_char\n",
    "    return encoded_text\n",
    "\n",
    "plaintext = \"Hello, World!\"\n",
    "shift = 3\n",
    "encoded_text = caesar_cipher(plaintext, shift)\n",
    "print(\"Encoded text:\", encoded_text)"
   ]
  },
  {
   "cell_type": "code",
   "execution_count": 121,
   "id": "bba1f0fe-ffd1-4de6-8cfa-0f151b618f5e",
   "metadata": {},
   "outputs": [
    {
     "name": "stdout",
     "output_type": "stream",
     "text": [
      "Decoded text: Hello, World!\n"
     ]
    }
   ],
   "source": [
    "'''43. Decode a Caesar cipher encoded string.'''\n",
    "def caesar_decipher(encoded_text, shift):\n",
    "    decoded_text = \"\"\n",
    "\n",
    "    for char in encoded_text:\n",
    "        if char.isupper():\n",
    "            decoded_char = chr((ord(char) - 65 - shift) % 26 + 65)\n",
    "        elif char.islower():\n",
    "            decoded_char = chr((ord(char) - 97 - shift) % 26 + 97)\n",
    "        else:\n",
    "            decoded_char = char\n",
    "        decoded_text += decoded_char\n",
    "\n",
    "    return decoded_text\n",
    "\n",
    "encoded_text = \"Khoor, Zruog!\"\n",
    "shift = 3\n",
    "decoded_text = caesar_decipher(encoded_text, shift)\n",
    "print(\"Decoded text:\", decoded_text)\n"
   ]
  },
  {
   "cell_type": "code",
   "execution_count": 122,
   "id": "ee9944b9-1fa9-4612-af0d-468bb38a4ec7",
   "metadata": {},
   "outputs": [
    {
     "name": "stdout",
     "output_type": "stream",
     "text": [
      "Most frequent word: the\n"
     ]
    }
   ],
   "source": [
    "'''44. Find the most frequent word in a string.'''\n",
    "def most_frequent_word(text):\n",
    "    words = text.split()\n",
    "    \n",
    "    word_freq = {}\n",
    "    \n",
    "    for word in words:\n",
    "        word_freq[word] = word_freq.get(word, 0) + 1\n",
    "    \n",
    "    most_frequent_word = max(word_freq, key=word_freq.get)\n",
    "    \n",
    "    return most_frequent_word\n",
    "\n",
    "text = \"the quick brown fox jumps over the lazy dog the quick brown fox\"\n",
    "most_frequent = most_frequent_word(text)\n",
    "print(\"Most frequent word:\", most_frequent)\n"
   ]
  },
  {
   "cell_type": "code",
   "execution_count": 124,
   "id": "1bd8843e-5199-4e6d-b085-7e6e330dfc1a",
   "metadata": {},
   "outputs": [
    {
     "name": "stdout",
     "output_type": "stream",
     "text": [
      "Unique words: {'dog', 'the', 'fox', 'jumps', 'over', 'brown', 'lazy', 'quick'}\n"
     ]
    }
   ],
   "source": [
    "'''45. Find all unique words in a string.'''\n",
    "def unique_words(text):\n",
    "    words = text.split()\n",
    "    unique_words_set = set(words)\n",
    "    return unique_words_set\n",
    "\n",
    "text = \"the quick brown fox jumps over the lazy dog the quick brown fox\"\n",
    "unique_words_set = unique_words(text)\n",
    "print(\"Unique words:\", unique_words_set)"
   ]
  },
  {
   "cell_type": "code",
   "execution_count": 126,
   "id": "dad59149-1527-4935-9e49-52ac99e42f04",
   "metadata": {},
   "outputs": [
    {
     "name": "stdout",
     "output_type": "stream",
     "text": [
      "Number of syllables: 3\n"
     ]
    }
   ],
   "source": [
    "'''46. Count the number of syllables in a string.'''\n",
    "def count_syllables(text):\n",
    "    text = text.lower()\n",
    "    vowels = {'a', 'e', 'i', 'o', 'u'}\n",
    "    num_vowels = sum(text.count(vowel) for vowel in vowels)\n",
    "    return num_vowels\n",
    "\n",
    "text = \"Hello, World!\"\n",
    "num_syllables = count_syllables(text)\n",
    "print(\"Number of syllables:\", num_syllables)"
   ]
  },
  {
   "cell_type": "code",
   "execution_count": 127,
   "id": "713ad832-e9f1-4967-b449-e090335b9c78",
   "metadata": {},
   "outputs": [
    {
     "name": "stdout",
     "output_type": "stream",
     "text": [
      "Contains special characters: True\n",
      "Contains special characters: False\n"
     ]
    }
   ],
   "source": [
    "'''47. Check if a string contains any special characters.'''\n",
    "import string\n",
    "\n",
    "def contains_special_characters(text):\n",
    "    special_characters = set(string.punctuation)\n",
    "    \n",
    "    for char in text:\n",
    "        if char in special_characters:\n",
    "            return True\n",
    "    return False\n",
    "\n",
    "text = \"Hello, World!\"\n",
    "contains_special = contains_special_characters(text)\n",
    "print(\"Contains special characters:\", contains_special)\n",
    "\n",
    "text = \"Hello World\"\n",
    "contains_special = contains_special_characters(text)\n",
    "print(\"Contains special characters:\", contains_special)"
   ]
  },
  {
   "cell_type": "code",
   "execution_count": 128,
   "id": "75ad2708-df5b-40b6-90db-bbdf1491986a",
   "metadata": {},
   "outputs": [
    {
     "name": "stdout",
     "output_type": "stream",
     "text": [
      "Updated text: This is test string\n"
     ]
    }
   ],
   "source": [
    "'''48. Remove the nth word from a string.'''\n",
    "def remove_nth_word(text, n):\n",
    "    words = text.split()\n",
    "    if n < 0 or n >= len(words):\n",
    "        return \"Invalid index\"\n",
    "    del words[n]\n",
    "    updated_text = ' '.join(words)\n",
    "    return updated_text\n",
    "\n",
    "text = \"This is a test string\"\n",
    "n = 2\n",
    "updated_text = remove_nth_word(text, n)\n",
    "print(\"Updated text:\", updated_text)"
   ]
  },
  {
   "cell_type": "code",
   "execution_count": 130,
   "id": "cd36027d-cd5f-416d-98e6-4d33377421ae",
   "metadata": {},
   "outputs": [
    {
     "name": "stdout",
     "output_type": "stream",
     "text": [
      "Updated text: This is new a test string\n"
     ]
    }
   ],
   "source": [
    "'''49. Insert a word at the nth position in a string.'''\n",
    "def insert_word_at_nth_position(text, word, n):\n",
    "    words = text.split()\n",
    "    if n < 0 or n > len(words):\n",
    "        return \"Invalid index\"\n",
    "    words.insert(n, word)\n",
    "    updated_text = ' '.join(words)\n",
    "    return updated_text\n",
    "\n",
    "text = \"This is a test string\"\n",
    "word_to_insert = \"new\"\n",
    "n = 2\n",
    "updated_text = insert_word_at_nth_position(text, word_to_insert, n)\n",
    "print(\"Updated text:\", updated_text)"
   ]
  },
  {
   "cell_type": "code",
   "execution_count": 131,
   "id": "0c863fc8-f5fa-4388-a62d-bc8492fc498f",
   "metadata": {},
   "outputs": [
    {
     "name": "stdout",
     "output_type": "stream",
     "text": [
      "List of lists: [['1', 'John', 'Doe'], ['2', 'Jane', 'Smith'], ['3', 'Bob', 'Johnson']]\n"
     ]
    }
   ],
   "source": [
    "'''50. Convert a CSV string to a list of lists.'''\n",
    "import csv\n",
    "from io import StringIO\n",
    "\n",
    "def csv_string_to_list(csv_string):\n",
    "    rows = []\n",
    "    csv_file = StringIO(csv_string)\n",
    "    csv_reader = csv.reader(csv_file)\n",
    "    for row in csv_reader:\n",
    "        rows.append(row)\n",
    "    return rows\n",
    "\n",
    "csv_string = \"1,John,Doe\\n2,Jane,Smith\\n3,Bob,Johnson\"\n",
    "list_of_lists = csv_string_to_list(csv_string)\n",
    "print(\"List of lists:\", list_of_lists)"
   ]
  },
  {
   "cell_type": "markdown",
   "id": "6fa66ae7-93e1-41ae-a5ab-6e90cb563a59",
   "metadata": {},
   "source": [
    "List Based Practice Problem :"
   ]
  },
  {
   "cell_type": "code",
   "execution_count": 97,
   "id": "8c99c94a-19bc-43d1-8d86-7701231b5bf9",
   "metadata": {},
   "outputs": [
    {
     "name": "stdout",
     "output_type": "stream",
     "text": [
      "[1, 2, 3, 4, 5, 6, 7, 8, 9, 10]\n"
     ]
    }
   ],
   "source": [
    "'''1. Create a list with integers from 1 to 10.'''\n",
    "\n",
    "integer_list = list(range(1, 11))\n",
    "print(integer_list)"
   ]
  },
  {
   "cell_type": "code",
   "execution_count": 103,
   "id": "e30fec8c-fda5-4813-885e-92873879b638",
   "metadata": {},
   "outputs": [
    {
     "name": "stdout",
     "output_type": "stream",
     "text": [
      "length is 10\n"
     ]
    }
   ],
   "source": [
    "'''2. Find the length of a list without using the `len()` function.'''\n",
    "\n",
    "integer_list = [1, 2, 3, 4, 5, 6, 7, 8, 9, 10]\n",
    "list_length = sum(1 for _ in integer_list)\n",
    "\n",
    "print(f\"length is {list_length}\")"
   ]
  },
  {
   "cell_type": "code",
   "execution_count": 104,
   "id": "39ac7679-9e64-420c-b6dd-af627abaa3b7",
   "metadata": {},
   "outputs": [
    {
     "name": "stdout",
     "output_type": "stream",
     "text": [
      "Updated list: [1, 2, 3, 4, 5, 6, 7, 8, 9, 10, 11]\n"
     ]
    }
   ],
   "source": [
    "'''3. Append an element to the end of a list.'''\n",
    "\n",
    "integer_list = [1, 2, 3, 4, 5, 6, 7, 8, 9, 10]\n",
    "integer_list.append(11)\n",
    "\n",
    "print(f\"Updated list: {integer_list}\")"
   ]
  },
  {
   "cell_type": "code",
   "execution_count": 105,
   "id": "7e3bffb1-4c64-49a5-b032-739564c9c138",
   "metadata": {},
   "outputs": [
    {
     "name": "stdout",
     "output_type": "stream",
     "text": [
      "Updated list: [1, 2, 3, 4, 5, 99, 6, 7, 8, 9, 10, 11]\n"
     ]
    }
   ],
   "source": [
    "'''4. Insert an element at a specific index in a list.'''\n",
    "\n",
    "integer_list = [1, 2, 3, 4, 5, 6, 7, 8, 9, 10, 11]\n",
    "integer_list.insert(5, 99)\n",
    "\n",
    "print(f\"Updated list: {integer_list}\")"
   ]
  },
  {
   "cell_type": "code",
   "execution_count": 106,
   "id": "c78e3d20-8487-43f1-99a7-80050dd60bc4",
   "metadata": {},
   "outputs": [
    {
     "name": "stdout",
     "output_type": "stream",
     "text": [
      "Updated list: [1, 2, 3, 4, 5, 6, 7, 8, 9, 10, 11]\n"
     ]
    }
   ],
   "source": [
    "\"\"\"5. Remove an element from a list by its value.\"\"\"\n",
    "\n",
    "integer_list = [1, 2, 3, 4, 5, 99, 6, 7, 8, 9, 10, 11]\n",
    "integer_list.remove(99)\n",
    "\n",
    "print(f\"Updated list: {integer_list}\")"
   ]
  },
  {
   "cell_type": "code",
   "execution_count": 107,
   "id": "ec62573f-c497-41b4-bbca-320c24050403",
   "metadata": {},
   "outputs": [
    {
     "name": "stdout",
     "output_type": "stream",
     "text": [
      "Updated list: [1, 2, 3, 4, 5, 7, 8, 9, 10, 11]\n"
     ]
    }
   ],
   "source": [
    "\"\"\"6. Remove an element from a list by its index.\"\"\"\n",
    "\n",
    "integer_list = [1, 2, 3, 4, 5, 6, 7, 8, 9, 10, 11]\n",
    "removed_element = integer_list.pop(5)\n",
    "\n",
    "print(f\"Updated list: {integer_list}\")"
   ]
  },
  {
   "cell_type": "code",
   "execution_count": 111,
   "id": "f152c708-1ed9-4551-b13a-195dcaaab4d3",
   "metadata": {},
   "outputs": [
    {
     "name": "stdout",
     "output_type": "stream",
     "text": [
      "Is 7 present in [1, 2, 3, 4, 5, 7, 8, 9, 10, 11]?: True\n"
     ]
    }
   ],
   "source": [
    "\"\"\"7. Check if an element exists in a list.\"\"\"\n",
    "\n",
    "integer_list = [1, 2, 3, 4, 5, 7, 8, 9, 10, 11]\n",
    "element_to_check = 7\n",
    "element_exists = element_to_check in integer_list\n",
    "\n",
    "print(f\"Is {element_to_check} present in {integer_list}?: {element_exists}\")"
   ]
  },
  {
   "cell_type": "code",
   "execution_count": 112,
   "id": "727279bb-8ade-49e9-a702-494ec0d6725f",
   "metadata": {},
   "outputs": [
    {
     "name": "stdout",
     "output_type": "stream",
     "text": [
      "5\n"
     ]
    }
   ],
   "source": [
    "\"\"\"8. Find the index of the first occurrence of an element in a list.\"\"\"\n",
    "\n",
    "integer_list = [1, 2, 3, 4, 5, 7, 8, 9, 10, 11, 7]\n",
    "element_to_find = 7\n",
    "first_occurrence_index = integer_list.index(element_to_find)\n",
    "\n",
    "print(first_occurrence_index)"
   ]
  },
  {
   "cell_type": "code",
   "execution_count": 113,
   "id": "6ae3b86d-c360-44e4-aaf2-fb78c7d249ea",
   "metadata": {},
   "outputs": [
    {
     "name": "stdout",
     "output_type": "stream",
     "text": [
      "2\n"
     ]
    }
   ],
   "source": [
    "\"\"\"9. Count the occurrences of an element in a list.\"\"\"\n",
    "\n",
    "integer_list = [1, 2, 3, 4, 5, 7, 8, 9, 10, 11, 7]\n",
    "element_to_count = 7\n",
    "occurrences = integer_list.count(element_to_count)\n",
    "\n",
    "print(occurrences)"
   ]
  },
  {
   "cell_type": "code",
   "execution_count": 114,
   "id": "127dae80-009c-4394-9156-d4c2cac48b34",
   "metadata": {},
   "outputs": [
    {
     "name": "stdout",
     "output_type": "stream",
     "text": [
      "[11, 10, 9, 8, 7, 5, 4, 3, 2, 1]\n"
     ]
    }
   ],
   "source": [
    "\"\"\"10. Reverse the order of elements in a list.\"\"\"\n",
    "\n",
    "integer_list = [1, 2, 3, 4, 5, 7, 8, 9, 10, 11]\n",
    "integer_list.reverse()\n",
    "\n",
    "print(integer_list)"
   ]
  },
  {
   "cell_type": "code",
   "execution_count": 2,
   "id": "a014d9a7-3e53-4d6e-b6a4-30792c5a6bba",
   "metadata": {},
   "outputs": [
    {
     "name": "stdout",
     "output_type": "stream",
     "text": [
      "Before sort: [2, 10, 4, 5, 1, 8, 2, 0, 11]\n",
      "After sort: [0, 1, 2, 2, 4, 5, 8, 10, 11]\n"
     ]
    }
   ],
   "source": [
    "\"\"\"11. Sort a list in ascending order.\"\"\"\n",
    "\n",
    "integer_list = [2, 10, 4, 5, 1, 8, 2, 0, 11]\n",
    "print(f\"Before sort: {integer_list}\")\n",
    "integer_list.sort()\n",
    "\n",
    "print(f\"After sort: {integer_list}\")"
   ]
  },
  {
   "cell_type": "code",
   "execution_count": 3,
   "id": "3c27d9e5-8c25-4f86-883a-3e5ae786f2c2",
   "metadata": {},
   "outputs": [
    {
     "name": "stdout",
     "output_type": "stream",
     "text": [
      "Before sort: [2, 10, 4, 5, 1, 8, 2, 0, 11]\n",
      "After sort: [11, 10, 8, 5, 4, 2, 2, 1, 0]\n"
     ]
    }
   ],
   "source": [
    "\"\"\"12. Sort a list in descending order.\"\"\"\n",
    "\n",
    "integer_list = [2, 10, 4, 5, 1, 8, 2, 0, 11]\n",
    "print(f\"Before sort: {integer_list}\")\n",
    "integer_list.sort(reverse=True)\n",
    "\n",
    "print(f\"After sort: {integer_list}\")"
   ]
  },
  {
   "cell_type": "code",
   "execution_count": 7,
   "id": "ddcca921-2447-40a9-83be-d5084a46e70e",
   "metadata": {},
   "outputs": [
    {
     "name": "stdout",
     "output_type": "stream",
     "text": [
      "list of even numbers from 1 to 20: [2, 4, 6, 8, 10, 12, 14, 16, 18, 20]\n"
     ]
    }
   ],
   "source": [
    "\"\"\"13. Create a list of even numbers from 1 to 20.\"\"\"\n",
    "\n",
    "even_integer_list = list(range(2,21,2))\n",
    "print(f\"list of even numbers from 1 to 20: {even_integer_list}\")"
   ]
  },
  {
   "cell_type": "code",
   "execution_count": 8,
   "id": "f3106fe6-3037-48bb-9384-755d59a0ee5d",
   "metadata": {},
   "outputs": [
    {
     "name": "stdout",
     "output_type": "stream",
     "text": [
      "list of odd numbers from 1 to 20: [1, 3, 5, 7, 9, 11, 13, 15, 17, 19]\n"
     ]
    }
   ],
   "source": [
    "\"\"\"14. Create a list of odd numbers from 1 to 20.\"\"\"\n",
    "\n",
    "odd_integer_list = list(range(1,20,2))\n",
    "print(f\"list of odd numbers from 1 to 20: {odd_integer_list}\")"
   ]
  },
  {
   "cell_type": "code",
   "execution_count": 9,
   "id": "243b9568-8c46-43b4-ab16-dfd01ef18250",
   "metadata": {},
   "outputs": [
    {
     "name": "stdout",
     "output_type": "stream",
     "text": [
      "sum of all elements in [1, 2, 3, 4, 5, 6, 7, 8, 9, 10]: 55\n"
     ]
    }
   ],
   "source": [
    "\"\"\"15. Find the sum of all elements in a list.\"\"\"\n",
    "\n",
    "integer_list = list(range(1,11))\n",
    "sum_integer_list = sum(integer_list)\n",
    "print(f\"sum of all elements in {integer_list}: {sum_integer_list}\")"
   ]
  },
  {
   "cell_type": "code",
   "execution_count": 10,
   "id": "ebfc331b-3eb5-4750-91ae-264470b6283c",
   "metadata": {},
   "outputs": [
    {
     "name": "stdout",
     "output_type": "stream",
     "text": [
      "Max of all elements in [1, 2, 3, 4, 5, 6, 7, 8, 9, 10]: 10\n"
     ]
    }
   ],
   "source": [
    "\"\"\"16. Find the maximum value in a list.\"\"\"\n",
    "\n",
    "integer_list = list(range(1,11))\n",
    "max_integer = max(integer_list)\n",
    "print(f\"Max of all elements in {integer_list}: {max_integer}\")"
   ]
  },
  {
   "cell_type": "code",
   "execution_count": 11,
   "id": "098186db-fabb-4460-a030-2e51f63a885f",
   "metadata": {},
   "outputs": [
    {
     "name": "stdout",
     "output_type": "stream",
     "text": [
      "Min of all elements in [1, 2, 3, 4, 5, 6, 7, 8, 9, 10]: 1\n"
     ]
    }
   ],
   "source": [
    "\"\"\"17. Find the minimum value in a list.\"\"\"\n",
    "\n",
    "integer_list = list(range(1,11))\n",
    "min_integer = min(integer_list)\n",
    "print(f\"Min of all elements in {integer_list}: {min_integer}\")"
   ]
  },
  {
   "cell_type": "code",
   "execution_count": 13,
   "id": "cb492c73-a61e-4c8a-a07d-61351caf638a",
   "metadata": {},
   "outputs": [
    {
     "name": "stdout",
     "output_type": "stream",
     "text": [
      "[1, 4, 9, 16, 25, 36, 49, 64, 81, 100]\n"
     ]
    }
   ],
   "source": [
    "\"\"\"18. Create a list of squares of numbers from 1 to 10.\"\"\"\n",
    "\n",
    "integer_list = list(range(1,11))\n",
    "square_list = list()\n",
    "for i in integer_list:\n",
    "    square_list.append(i**2)\n",
    "    \n",
    "print(square_list)"
   ]
  },
  {
   "cell_type": "code",
   "execution_count": 16,
   "id": "652bc90d-1e27-4448-8e98-5335ab30d3a7",
   "metadata": {},
   "outputs": [
    {
     "name": "stdout",
     "output_type": "stream",
     "text": [
      "[3, 88, 48, 83, 23, 51, 9, 68, 18, 29]\n"
     ]
    }
   ],
   "source": [
    "\"\"\"19. Create a list of random numbers.\"\"\"\n",
    "\n",
    "import random\n",
    "random_numbers_list = [random.randint(1, 100) for _ in range(10)]\n",
    "\n",
    "print(random_numbers_list)"
   ]
  },
  {
   "cell_type": "code",
   "execution_count": 18,
   "id": "f6fe7e1c-15f0-4a1a-8560-0dd99b2395c9",
   "metadata": {},
   "outputs": [
    {
     "name": "stdout",
     "output_type": "stream",
     "text": [
      "With duplicates: [67, 83, 24, 27, 62, 86, 100, 27, 99, 65, 67, 83, 24]\n",
      "Without duplicates: [65, 67, 100, 99, 83, 86, 24, 27, 62]\n"
     ]
    }
   ],
   "source": [
    "\"\"\"20. Remove duplicates from a list.\"\"\"\n",
    "\n",
    "list_with_duplicates = [67, 83, 24, 27, 62, 86, 100, 27, 99, 65, 67, 83, 24]\n",
    "list_without_duplicates = list(set(list_with_duplicates))\n",
    "\n",
    "print(f\"With duplicates: {list_with_duplicates}\")\n",
    "print(f\"Without duplicates: {list_without_duplicates}\")"
   ]
  },
  {
   "cell_type": "code",
   "execution_count": 19,
   "id": "d836403c-cb4c-411a-b5e5-08d923319f7f",
   "metadata": {},
   "outputs": [
    {
     "name": "stdout",
     "output_type": "stream",
     "text": [
      "[4, 5]\n"
     ]
    }
   ],
   "source": [
    "\"\"\"21. Find the common elements between two lists.\"\"\"\n",
    "\n",
    "list1 = [1, 2, 3, 4, 5]\n",
    "list2 = [4, 5, 6, 7, 8]\n",
    "common_elements = list(set(list1) & set(list2))\n",
    "\n",
    "print(common_elements)"
   ]
  },
  {
   "cell_type": "code",
   "execution_count": 20,
   "id": "8269bfdd-163e-4da2-8a88-69b831b13ff0",
   "metadata": {},
   "outputs": [
    {
     "name": "stdout",
     "output_type": "stream",
     "text": [
      "[1, 2, 3]\n"
     ]
    }
   ],
   "source": [
    "\"\"\"22. Find the difference between two lists.\"\"\"\n",
    "\n",
    "list1 = [1, 2, 3, 4, 5]\n",
    "list2 = [4, 5, 6, 7, 8]\n",
    "difference_elements = list(set(list1) - set(list2))\n",
    "\n",
    "print(difference_elements)"
   ]
  },
  {
   "cell_type": "code",
   "execution_count": 21,
   "id": "1fc586ec-ea71-46e7-9966-66d37889edb2",
   "metadata": {},
   "outputs": [
    {
     "name": "stdout",
     "output_type": "stream",
     "text": [
      "[1, 2, 3, 4, 5, 4, 5, 6, 7, 8]\n"
     ]
    }
   ],
   "source": [
    "\"\"\"23. Merge two lists.\"\"\"\n",
    "\n",
    "list1 = [1, 2, 3, 4, 5]\n",
    "list2 = [4, 5, 6, 7, 8]\n",
    "merged_list = list1 + list2\n",
    "\n",
    "print(merged_list)"
   ]
  },
  {
   "cell_type": "code",
   "execution_count": 22,
   "id": "db31acf6-dc67-4683-9c9a-10953c10be32",
   "metadata": {},
   "outputs": [
    {
     "name": "stdout",
     "output_type": "stream",
     "text": [
      "[2, 4, 6, 8, 10]\n"
     ]
    }
   ],
   "source": [
    "\"\"\"24. Multiply all elements in a list by 2.\"\"\"\n",
    "\n",
    "list1 = [1, 2, 3, 4, 5]\n",
    "updated_list = [i*2 for i in list1]\n",
    "print(updated_list)"
   ]
  },
  {
   "cell_type": "code",
   "execution_count": 23,
   "id": "9be2dba5-99f6-4fca-bc7d-e45fc9dd693b",
   "metadata": {},
   "outputs": [
    {
     "name": "stdout",
     "output_type": "stream",
     "text": [
      "[1, 3, 5, 7, 9]\n"
     ]
    }
   ],
   "source": [
    "\"\"\"25. Filter out all even numbers from a list.\"\"\"\n",
    "\n",
    "list_with_evens = [1, 2, 3, 4, 5, 6, 7, 8, 9, 10]\n",
    "filtered_list = [element for element in list_with_evens if element % 2 != 0]\n",
    "\n",
    "print(filtered_list)"
   ]
  },
  {
   "cell_type": "code",
   "execution_count": 49,
   "id": "569949b4-3ed2-4749-838b-e4f536a42359",
   "metadata": {},
   "outputs": [
    {
     "name": "stdout",
     "output_type": "stream",
     "text": [
      "[1, 2, 3, 4, 5]\n"
     ]
    }
   ],
   "source": [
    "\"\"\"26. Convert a list of strings to a list of integers.\"\"\"\n",
    "\n",
    "list_of_strings = [\"1\", \"2\", \"3\", \"4\", \"5\"]\n",
    "list_of_integers = [int(element) for element in list_of_strings]\n",
    "\n",
    "print(list_of_integers)"
   ]
  },
  {
   "cell_type": "code",
   "execution_count": 50,
   "id": "2b48219c-6cb7-4218-9a06-9721da8d2d26",
   "metadata": {},
   "outputs": [
    {
     "name": "stdout",
     "output_type": "stream",
     "text": [
      "['1', '2', '3', '4', '5']\n"
     ]
    }
   ],
   "source": [
    "\"\"\"27. Convert a list of integers to a list of strings.\"\"\"\n",
    "\n",
    "list_of_integers = [1, 2, 3, 4, 5]\n",
    "list_of_strings = [str(element) for element in list_of_integers]\n",
    "\n",
    "print(list_of_strings)"
   ]
  },
  {
   "cell_type": "code",
   "execution_count": 54,
   "id": "d6abcf28-7bb3-46ec-81b9-53b8e4d4fba2",
   "metadata": {},
   "outputs": [
    {
     "name": "stdout",
     "output_type": "stream",
     "text": [
      "[1, 2, 3, 4, 5, 6, 7, 8, 9, 10]\n"
     ]
    }
   ],
   "source": [
    "\"\"\"28. Flatten a nested list.\"\"\"\n",
    "\n",
    "nested_list = [[1, 2, 3], [4, 5], [6, 7, 8, 9], [10]]\n",
    "flattened_list=list()\n",
    "for sublist in nested_list:\n",
    "    flattened_list.extend(sublist)\n",
    "\n",
    "print(flattened_list)"
   ]
  },
  {
   "cell_type": "code",
   "execution_count": 56,
   "id": "cc5f9edf-6eaa-4622-8f19-650a18bd1a52",
   "metadata": {},
   "outputs": [
    {
     "name": "stdout",
     "output_type": "stream",
     "text": [
      "[0, 1, 1, 2, 3, 5, 8, 13, 21, 34]\n"
     ]
    }
   ],
   "source": [
    "\"\"\"29. Create a list of the first 10 Fibonacci numbers.\"\"\"\n",
    "\n",
    "fibonacci_list = [0, 1]\n",
    "for _ in range(8):\n",
    "    fibonacci_list.append(fibonacci_list[-1] + fibonacci_list[-2])\n",
    "\n",
    "print(fibonacci_list)"
   ]
  },
  {
   "cell_type": "code",
   "execution_count": 67,
   "id": "0aa1f12e-2f8d-466c-9e64-859c881cda98",
   "metadata": {},
   "outputs": [
    {
     "name": "stdout",
     "output_type": "stream",
     "text": [
      "Is the list sorted: True\n"
     ]
    }
   ],
   "source": [
    "\"\"\"30. Check if a list is sorted.\"\"\"\n",
    "\n",
    "list_to_check_again = [0, 1, 1, 2, 3, 5, 8, 13, 21, 34]\n",
    "is_sorted_again = list_to_check_again == sorted(list_to_check_again)\n",
    "\n",
    "print(f\"Is the list sorted: {is_sorted_again}\")"
   ]
  },
  {
   "cell_type": "code",
   "execution_count": 68,
   "id": "f7e1685e-e1ce-4830-b8d8-d3dc3dc4c34d",
   "metadata": {},
   "outputs": [
    {
     "name": "stdout",
     "output_type": "stream",
     "text": [
      "[4, 5, 6, 7, 8, 9, 10, 1, 2, 3]\n"
     ]
    }
   ],
   "source": [
    "\"\"\"31. Rotate a list to the left by `n` positions.\"\"\"\n",
    "list_to_rotate = [1, 2, 3, 4, 5, 6, 7, 8, 9, 10]\n",
    "n = 3\n",
    "rotated_list = list_to_rotate[n:] + list_to_rotate[:n]\n",
    "\n",
    "print(rotated_list)"
   ]
  },
  {
   "cell_type": "code",
   "execution_count": 70,
   "id": "5a4bac78-5997-491f-9437-3d55eaccbc0c",
   "metadata": {},
   "outputs": [
    {
     "name": "stdout",
     "output_type": "stream",
     "text": [
      "[8, 9, 10, 1, 2, 3, 4, 5, 6, 7]\n"
     ]
    }
   ],
   "source": [
    "\"\"\"32. Rotate a list to the right by `n` positions.\"\"\"\n",
    "list_to_rotate = [1, 2, 3, 4, 5, 6, 7, 8, 9, 10]\n",
    "n = 3\n",
    "rotated_list = list_to_rotate[-n:] + list_to_rotate[:-n] \n",
    "\n",
    "print(rotated_list)"
   ]
  },
  {
   "cell_type": "code",
   "execution_count": 72,
   "id": "76628663-ecce-41e6-9330-76c0d34a1da2",
   "metadata": {},
   "outputs": [
    {
     "name": "stdout",
     "output_type": "stream",
     "text": [
      "[2, 3, 5, 7, 11, 13, 17, 19, 23, 29, 31, 37, 41, 43, 47]\n"
     ]
    }
   ],
   "source": [
    "\"\"\"33. Create a list of prime numbers up to 50.\"\"\"\n",
    "def is_prime_simple(n):\n",
    "    if n <= 1:\n",
    "        return False\n",
    "    for i in range(2, n):\n",
    "        if n % i == 0:\n",
    "            return False\n",
    "    return True\n",
    "\n",
    "prime_numbers_up_to_50_simple = [n for n in range(2, 51) if is_prime_simple(n)]\n",
    "\n",
    "print(prime_numbers_up_to_50_simple)"
   ]
  },
  {
   "cell_type": "code",
   "execution_count": 73,
   "id": "51ac6b52-b349-4037-b57d-adb325a390e6",
   "metadata": {},
   "outputs": [
    {
     "name": "stdout",
     "output_type": "stream",
     "text": [
      "[[1, 2, 3], [4, 5, 6], [7, 8, 9], [10]]\n"
     ]
    }
   ],
   "source": [
    "\"\"\"34. Split a list into chunks of size `n`.\"\"\"\n",
    "list_to_split = [1, 2, 3, 4, 5, 6, 7, 8, 9, 10]\n",
    "\n",
    "chunk_size = 3\n",
    "\n",
    "chunks = [list_to_split[i:i + chunk_size] for i in range(0, len(list_to_split), chunk_size)]\n",
    "\n",
    "print(chunks)"
   ]
  },
  {
   "cell_type": "code",
   "execution_count": 74,
   "id": "155539fc-f8f2-45d1-8067-601893b9aedd",
   "metadata": {},
   "outputs": [
    {
     "name": "stdout",
     "output_type": "stream",
     "text": [
      "45\n"
     ]
    }
   ],
   "source": [
    "\"\"\"35. Find the second largest number in a list.\"\"\"\n",
    "numbers_list = [10, 20, 4, 45, 99, 23, 45]\n",
    "\n",
    "unique_numbers = sorted(set(numbers_list), reverse=True)\n",
    "second_largest_number = unique_numbers[1]\n",
    "\n",
    "print(second_largest_number)"
   ]
  },
  {
   "cell_type": "code",
   "execution_count": 80,
   "id": "c0ec627f-28d6-45e0-91c4-93c7e6be746d",
   "metadata": {},
   "outputs": [
    {
     "name": "stdout",
     "output_type": "stream",
     "text": [
      "[1, 4, 9, 16, 25]\n"
     ]
    }
   ],
   "source": [
    "\"\"\"36. Replace every element in a list with its square.\"\"\"\n",
    "numbers_list = [1, 2, 3, 4, 5]\n",
    "\n",
    "for index, elem in enumerate(numbers_list):\n",
    "    numbers_list[index]=elem**2\n",
    "\n",
    "print(numbers_list)"
   ]
  },
  {
   "cell_type": "code",
   "execution_count": 83,
   "id": "c8e823ed-7c9e-48cb-b661-2aa67b22b827",
   "metadata": {},
   "outputs": [
    {
     "name": "stdout",
     "output_type": "stream",
     "text": [
      "{'a': 0, 'b': 1, 'c': 2, 'd': 3, 'e': 4}\n"
     ]
    }
   ],
   "source": [
    "\"\"\"37. Convert a list to a dictionary where list elements become keys and their\n",
    "indices become values.\"\"\"\n",
    "\n",
    "elements_list = ['a', 'b', 'c', 'd', 'e']\n",
    "list_to_dict=dict()\n",
    "for index, elem in enumerate(elements_list):\n",
    "    list_to_dict[elem]=index\n",
    "\n",
    "print(list_to_dict)"
   ]
  },
  {
   "cell_type": "code",
   "execution_count": 84,
   "id": "7bc6b57c-082b-4e7a-9b64-4cdedc843de5",
   "metadata": {},
   "outputs": [
    {
     "name": "stdout",
     "output_type": "stream",
     "text": [
      "[2, 6, 4, 5, 10, 8, 7, 9, 1, 3]\n"
     ]
    }
   ],
   "source": [
    "\"\"\"38. Shuffle the elements of a list randomly.\"\"\"\n",
    "import random\n",
    "\n",
    "list_to_shuffle = [1, 2, 3, 4, 5, 6, 7, 8, 9, 10]\n",
    "random.shuffle(list_to_shuffle)\n",
    "\n",
    "print(list_to_shuffle)"
   ]
  },
  {
   "cell_type": "code",
   "execution_count": 89,
   "id": "63ede178-f71a-4a18-afec-b71025883f83",
   "metadata": {},
   "outputs": [
    {
     "name": "stdout",
     "output_type": "stream",
     "text": [
      "[1, 1, 2, 6, 24, 120, 720, 5040, 40320, 362880]\n"
     ]
    }
   ],
   "source": [
    "\"\"\"39. Create a list of the first 10 factorial numbers.\"\"\"\n",
    "\n",
    "def factorial(n):\n",
    "    if n == 0:\n",
    "        return 1\n",
    "    else:\n",
    "        return n * factorial(n-1)\n",
    "factorial_numbers = [factorial(i) for i in range(10)]\n",
    "\n",
    "print(factorial_numbers)"
   ]
  },
  {
   "cell_type": "code",
   "execution_count": 90,
   "id": "4433ae64-9b3d-4045-8c1c-2b90ba02c600",
   "metadata": {},
   "outputs": [
    {
     "name": "stdout",
     "output_type": "stream",
     "text": [
      "True\n"
     ]
    }
   ],
   "source": [
    "\"\"\"40. Check if two lists have at least one element in common.\"\"\"\n",
    "\n",
    "list1 = [1, 2, 3, 4, 5]\n",
    "list2 = [5, 6, 7, 8, 9]\n",
    "has_common_element = bool(set(list1) & set(list2))\n",
    "\n",
    "print(has_common_element)"
   ]
  },
  {
   "cell_type": "code",
   "execution_count": 91,
   "id": "95037e91-94d2-43ad-8715-8f495dd2fc21",
   "metadata": {},
   "outputs": [
    {
     "name": "stdout",
     "output_type": "stream",
     "text": [
      "[]\n"
     ]
    }
   ],
   "source": [
    "\"\"\"41. Remove all elements from a list.\"\"\"\n",
    "list_with_elements = [1, 2, 3, 4, 5]\n",
    "list_with_elements.clear()\n",
    "\n",
    "print(list_with_elements)"
   ]
  },
  {
   "cell_type": "code",
   "execution_count": 93,
   "id": "c371e212-fcb2-412a-9783-b2de0eb36186",
   "metadata": {},
   "outputs": [
    {
     "name": "stdout",
     "output_type": "stream",
     "text": [
      "[0, 2, 0, 4, 0, 6]\n"
     ]
    }
   ],
   "source": [
    "\"\"\"42. Replace negative numbers in a list with 0.\"\"\"\n",
    "numbers_list = [-1, 2, -3, 4, -5, 6]\n",
    "replaced_list = [0 if x < 0 else x for x in numbers_list]\n",
    "\n",
    "print(replaced_list)"
   ]
  },
  {
   "cell_type": "code",
   "execution_count": 94,
   "id": "5e8705ca-caf0-41e9-a8e2-2eaea5b9d6d5",
   "metadata": {},
   "outputs": [
    {
     "name": "stdout",
     "output_type": "stream",
     "text": [
      "['This', 'is', 'a', 'sample', 'string', 'to', 'convert', 'into', 'a', 'list', 'of', 'words.']\n"
     ]
    }
   ],
   "source": [
    "\"\"\"43. Convert a string into a list of words.\"\"\"\n",
    "string_to_convert = \"This is a sample string to convert into a list of words.\"\n",
    "words_list = string_to_convert.split()\n",
    "\n",
    "print(words_list)"
   ]
  },
  {
   "cell_type": "code",
   "execution_count": 95,
   "id": "2d76b537-7ff9-4611-9d60-0458b72c8469",
   "metadata": {},
   "outputs": [
    {
     "name": "stdout",
     "output_type": "stream",
     "text": [
      "This is a sample string to convert into a string.\n"
     ]
    }
   ],
   "source": [
    "\"\"\"44. Convert a list of words into a string.\"\"\"\n",
    "words_list = ['This', 'is', 'a', 'sample', 'string', 'to', 'convert', 'into', 'a', 'string.']\n",
    "converted_string = ' '.join(words_list)\n",
    "\n",
    "print(converted_string)"
   ]
  },
  {
   "cell_type": "code",
   "execution_count": 96,
   "id": "a31390c6-d279-469b-9577-7f60b85b1d42",
   "metadata": {},
   "outputs": [
    {
     "name": "stdout",
     "output_type": "stream",
     "text": [
      "[1, 2, 4, 8, 16, 32, 64, 128, 256, 512]\n"
     ]
    }
   ],
   "source": [
    "\"\"\"45. Create a list of the first `n` powers of 2.\"\"\"\n",
    "n = 10\n",
    "powers_of_2 = [2**i for i in range(n)]\n",
    "\n",
    "print(powers_of_2)"
   ]
  },
  {
   "cell_type": "code",
   "execution_count": 97,
   "id": "a0c0bf8f-5029-46e0-a4dd-0ff1bbd2e82e",
   "metadata": {},
   "outputs": [
    {
     "name": "stdout",
     "output_type": "stream",
     "text": [
      "the longest string in the list\n"
     ]
    }
   ],
   "source": [
    "\"\"\"46. Find the longest string in a list of strings.\"\"\"\n",
    "strings_list = [\"short\", \"medium length\", \"the longest string in the list\", \"longer\"]\n",
    "longest_string = max(strings_list, key=len)\n",
    "\n",
    "print(longest_string)"
   ]
  },
  {
   "cell_type": "code",
   "execution_count": 98,
   "id": "ae39075c-055f-4711-a9a3-9abd7295303f",
   "metadata": {},
   "outputs": [
    {
     "name": "stdout",
     "output_type": "stream",
     "text": [
      "short\n"
     ]
    }
   ],
   "source": [
    "\"\"\"47. Find the shortest string in a list of strings.\"\"\"\n",
    "strings_list = [\"short\", \"medium length\", \"the longest string in the list\", \"longer\"]\n",
    "shortest_string = min(strings_list, key=len)\n",
    "\n",
    "print(shortest_string)"
   ]
  },
  {
   "cell_type": "code",
   "execution_count": 100,
   "id": "a999c7ba-69e3-4a09-a1eb-84d990a1c243",
   "metadata": {},
   "outputs": [
    {
     "name": "stdout",
     "output_type": "stream",
     "text": [
      "[1, 3, 6, 10, 15, 21, 28, 36, 45, 55]\n"
     ]
    }
   ],
   "source": [
    "\"\"\"48. Create a list of the first `n` triangular numbers.\"\"\"\n",
    "n = 10\n",
    "\n",
    "def triangular_number(n):\n",
    "    return n * (n + 1) // 2\n",
    "\n",
    "triangular_numbers = [triangular_number(i) for i in range(1, n + 1)]\n",
    "print(triangular_numbers)"
   ]
  },
  {
   "cell_type": "code",
   "execution_count": 101,
   "id": "8f4bced6-87a5-416d-94d8-80aaf95d42be",
   "metadata": {},
   "outputs": [
    {
     "name": "stdout",
     "output_type": "stream",
     "text": [
      "Is subsequence: True\n"
     ]
    }
   ],
   "source": [
    "\"\"\"49. Check if a list contains another list as a subsequence.\"\"\"\n",
    "def is_subsequence(main_list, subsequence):\n",
    "    sub_idx = 0\n",
    "    for item in main_list:\n",
    "        if sub_idx == len(subsequence):\n",
    "            break\n",
    "        if item == subsequence[sub_idx]:\n",
    "            sub_idx += 1\n",
    "    return sub_idx == len(subsequence)\n",
    "\n",
    "main_list = [1, 2, 3, 4, 5, 6, 7, 8, 9, 10]\n",
    "subsequence = [1, 3, 5, 7]\n",
    "\n",
    "contains_subsequence = is_subsequence(main_list, subsequence)\n",
    "print(f\"Is subsequence: {contains_subsequence}\")"
   ]
  },
  {
   "cell_type": "code",
   "execution_count": 102,
   "id": "e72f1685-10cc-41a3-a890-eea7e995744b",
   "metadata": {},
   "outputs": [
    {
     "data": {
      "text/plain": [
       "[10, 40, 30, 20, 50]"
      ]
     },
     "execution_count": 102,
     "metadata": {},
     "output_type": "execute_result"
    }
   ],
   "source": [
    "\"\"\"50. Swap two elements in a list by their indices.\"\"\"\n",
    "list_to_swap = [10, 20, 30, 40, 50]\n",
    "index1, index2 = 1, 3\n",
    "list_to_swap[index1], list_to_swap[index2] = list_to_swap[index2], list_to_swap[index1]\n",
    "\n",
    "print(list_to_swap)"
   ]
  },
  {
   "cell_type": "markdown",
   "id": "caa2c5dc-76e1-4f51-a3de-ed6a94b00ef0",
   "metadata": {},
   "source": [
    "Tuple Based Practice Problem :"
   ]
  },
  {
   "cell_type": "code",
   "execution_count": 138,
   "id": "0116b3a1-3708-4a08-bdb8-1de90cef0cfd",
   "metadata": {},
   "outputs": [
    {
     "name": "stdout",
     "output_type": "stream",
     "text": [
      "(1, 2, 3, 4, 5)\n"
     ]
    }
   ],
   "source": [
    "\"\"\"1. Create a tuple with integers from 1 to 5.\"\"\"\n",
    "\n",
    "tuple_integers = tuple(list(range(1,6)))\n",
    "print(tuple_integers)"
   ]
  },
  {
   "cell_type": "code",
   "execution_count": 139,
   "id": "838d95e5-0e2d-422e-81ed-9ed840a06db0",
   "metadata": {},
   "outputs": [
    {
     "name": "stdout",
     "output_type": "stream",
     "text": [
      "Third element: 3\n"
     ]
    }
   ],
   "source": [
    "\"\"\"2. Access the third element of a tuple.\"\"\"\n",
    "\n",
    "tuple_integers = (1, 2, 3, 4, 5)\n",
    "third_element = tuple_integers[2]\n",
    "print(\"Third element:\", third_element)"
   ]
  },
  {
   "cell_type": "code",
   "execution_count": 140,
   "id": "729934e1-eb2a-4aad-835d-540549af8642",
   "metadata": {},
   "outputs": [
    {
     "name": "stdout",
     "output_type": "stream",
     "text": [
      "Length of tuple: 5\n"
     ]
    }
   ],
   "source": [
    "\"\"\"3. Find the length of a tuple without using the `len()` function.\"\"\"\n",
    "def tuple_length(tuple):\n",
    "    count = 0\n",
    "    for _ in tuple:\n",
    "        count += 1\n",
    "    return count\n",
    "\n",
    "tuple_integers = (1, 2, 3, 4, 5)\n",
    "length = tuple_length(tuple_integers)\n",
    "print(\"Length of tuple:\", length)"
   ]
  },
  {
   "cell_type": "code",
   "execution_count": 141,
   "id": "56e93d5a-db89-4c5f-889f-6362d56f0758",
   "metadata": {},
   "outputs": [
    {
     "name": "stdout",
     "output_type": "stream",
     "text": [
      "Occurrences of 3 in tuple: 3\n"
     ]
    }
   ],
   "source": [
    "\"\"\"4. Count the occurrences of an element in a tuple.\"\"\"\n",
    "\n",
    "tuple_integers = (1, 2, 3, 4, 5, 3, 3)\n",
    "element_to_count = 3\n",
    "occurrences = tuple_integers.count(element_to_count)\n",
    "print(\"Occurrences of\", element_to_count, \"in tuple:\", occurrences)"
   ]
  },
  {
   "cell_type": "code",
   "execution_count": 145,
   "id": "f04d7bcf-f69c-4875-9a59-20106d273ccc",
   "metadata": {},
   "outputs": [
    {
     "name": "stdout",
     "output_type": "stream",
     "text": [
      "Index of the first occurrence of 3 : 2\n"
     ]
    }
   ],
   "source": [
    "\"\"\"5. Find the index of the first occurrence of an element in a tuple.\"\"\"\n",
    "\n",
    "tuple_integers = (1, 2, 3, 4, 5, 3, 3)\n",
    "element_to_find = 3\n",
    "\n",
    "index = tuple_integers.index(element_to_find)\n",
    "print(\"Index of the first occurrence of\", element_to_find, \":\", index)"
   ]
  },
  {
   "cell_type": "code",
   "execution_count": 148,
   "id": "baf3182b-f0e7-4374-890f-a26202704263",
   "metadata": {},
   "outputs": [
    {
     "name": "stdout",
     "output_type": "stream",
     "text": [
      "Element 5 exists in the tuple.\n"
     ]
    }
   ],
   "source": [
    "\"\"\"6. Check if an element exists in a tuple.\"\"\"\n",
    "\n",
    "my_tuple = (1, 2, 3, 4, 5)\n",
    "element_to_check = 5\n",
    "\n",
    "if element_to_check in my_tuple:\n",
    "    print(\"Element\", element_to_check, \"exists in the tuple.\")\n",
    "else:\n",
    "    print(\"Element\", element_to_check, \"does not exist in the tuple.\")"
   ]
  },
  {
   "cell_type": "code",
   "execution_count": 149,
   "id": "eb495185-e0d5-45c8-8a4c-8cc38307bb2f",
   "metadata": {},
   "outputs": [
    {
     "name": "stdout",
     "output_type": "stream",
     "text": [
      "[1, 2, 3, 4, 5]\n"
     ]
    }
   ],
   "source": [
    "\"\"\"7. Convert a tuple to a list.\"\"\"\n",
    "my_tuple = (1, 2, 3, 4, 5)\n",
    "my_list = list(my_tuple)\n",
    "print(my_list)"
   ]
  },
  {
   "cell_type": "code",
   "execution_count": 152,
   "id": "7dd5643f-569e-4ac9-a01e-8ba09971b57b",
   "metadata": {},
   "outputs": [
    {
     "name": "stdout",
     "output_type": "stream",
     "text": [
      "(1, 2, 3, 4, 5)\n"
     ]
    }
   ],
   "source": [
    "\"\"\"8. Convert a list to a tuple.\"\"\"\n",
    "my_list = [1, 2, 3, 4, 5]\n",
    "my_tuple = tuple(my_list)\n",
    "print(my_tuple)"
   ]
  },
  {
   "cell_type": "code",
   "execution_count": 154,
   "id": "5e0eddaa-0d05-4a78-a328-cad9f43b3098",
   "metadata": {},
   "outputs": [
    {
     "name": "stdout",
     "output_type": "stream",
     "text": [
      "Amiya\n",
      "Pani\n"
     ]
    }
   ],
   "source": [
    "\"\"\"9. Unpack the elements of a tuple into variables.\"\"\"\n",
    "\n",
    "full_name = ('Amiya', 'Pani')\n",
    "first_name, last_name = full_name\n",
    "print(first_name)\n",
    "print(last_name)"
   ]
  },
  {
   "cell_type": "code",
   "execution_count": 157,
   "id": "0fb7ad5d-8fe5-4f61-b4d1-d9f306c82765",
   "metadata": {},
   "outputs": [
    {
     "name": "stdout",
     "output_type": "stream",
     "text": [
      "(2, 4, 6, 8, 10)\n"
     ]
    }
   ],
   "source": [
    "\"\"\"10. Create a tuple of even numbers from 1 to 10.\"\"\"\n",
    "even_tuple = tuple(range(2,11,2))\n",
    "print(even_tuple)"
   ]
  },
  {
   "cell_type": "code",
   "execution_count": 159,
   "id": "dc40bb30-7265-4193-9e15-68ba66d353a6",
   "metadata": {},
   "outputs": [
    {
     "name": "stdout",
     "output_type": "stream",
     "text": [
      "(1, 3, 5, 7, 9)\n"
     ]
    }
   ],
   "source": [
    "\"\"\"11. Create a tuple of odd numbers from 1 to 10.\"\"\"\n",
    "odd_tuple = tuple(range(1,10,2))\n",
    "print(odd_tuple)"
   ]
  },
  {
   "cell_type": "code",
   "execution_count": 160,
   "id": "50b0b802-7c8c-4d60-9331-70b6601b6727",
   "metadata": {},
   "outputs": [
    {
     "name": "stdout",
     "output_type": "stream",
     "text": [
      "Concatenated tuple: (1, 2, 3, 4, 5, 6)\n"
     ]
    }
   ],
   "source": [
    "\"\"\"12. Concatenate two tuples.\"\"\"\n",
    "tuple1 = (1, 2, 3)\n",
    "tuple2 = (4, 5, 6)\n",
    "\n",
    "concatenated_tuple = tuple1 + tuple2\n",
    "\n",
    "print(\"Concatenated tuple:\", concatenated_tuple)"
   ]
  },
  {
   "cell_type": "code",
   "execution_count": 161,
   "id": "ffb42e77-24ad-4bd3-a55e-79029dcd9bbd",
   "metadata": {},
   "outputs": [
    {
     "name": "stdout",
     "output_type": "stream",
     "text": [
      "Repeated tuple: (1, 2, 3, 1, 2, 3, 1, 2, 3)\n"
     ]
    }
   ],
   "source": [
    "\"\"\"13. Repeat a tuple three times.\"\"\"\n",
    "original_tuple = (1, 2, 3)\n",
    "repeated_tuple = original_tuple * 3\n",
    "\n",
    "print(\"Repeated tuple:\", repeated_tuple)"
   ]
  },
  {
   "cell_type": "code",
   "execution_count": 162,
   "id": "a1c43f90-f37a-4b74-bcf6-df7c6a986c71",
   "metadata": {},
   "outputs": [
    {
     "name": "stdout",
     "output_type": "stream",
     "text": [
      "The tuple is empty.\n"
     ]
    }
   ],
   "source": [
    "\"\"\"14. Check if a tuple is empty.\"\"\"\n",
    "empty_tuple = ()\n",
    "\n",
    "if len(empty_tuple) == 0:\n",
    "    print(\"The tuple is empty.\")\n",
    "else:\n",
    "    print(\"The tuple is not empty.\")"
   ]
  },
  {
   "cell_type": "code",
   "execution_count": 163,
   "id": "6b9082a5-92b5-4a76-856c-ec0d915976e5",
   "metadata": {},
   "outputs": [
    {
     "name": "stdout",
     "output_type": "stream",
     "text": [
      "Nested tuple: ((1, 2, 3), (4, 5, 6), (7, 8, 9))\n"
     ]
    }
   ],
   "source": [
    "\"\"\"15. Create a nested tuple.\"\"\"\n",
    "nested_tuple = ((1, 2, 3), (4, 5, 6), (7, 8, 9))\n",
    "\n",
    "print(\"Nested tuple:\", nested_tuple)"
   ]
  },
  {
   "cell_type": "code",
   "execution_count": 164,
   "id": "aaa17ef2-fae9-4fbb-b7d6-028a63b70f1a",
   "metadata": {},
   "outputs": [
    {
     "name": "stdout",
     "output_type": "stream",
     "text": [
      "First element of the nested tuple: 1\n"
     ]
    }
   ],
   "source": [
    "\"\"\"16. Access the first element of a nested tuple.\"\"\"\n",
    "nested_tuple = ((1, 2, 3), (4, 5, 6), (7, 8, 9))\n",
    "\n",
    "first_element = nested_tuple[0][0]\n",
    "\n",
    "print(\"First element of the nested tuple:\", first_element)"
   ]
  },
  {
   "cell_type": "code",
   "execution_count": 165,
   "id": "b224605d-2ff4-4e10-93bd-bcb6b8629d88",
   "metadata": {},
   "outputs": [
    {
     "name": "stdout",
     "output_type": "stream",
     "text": [
      "(1,)\n"
     ]
    }
   ],
   "source": [
    "\"\"\"17. Create a tuple with a single element.\"\"\"\n",
    "single_element_tuple = (1,)\n",
    "print(single_element_tuple)"
   ]
  },
  {
   "cell_type": "code",
   "execution_count": 169,
   "id": "1ecb7b4a-23d8-432a-923e-414e2a88a009",
   "metadata": {},
   "outputs": [
    {
     "name": "stdout",
     "output_type": "stream",
     "text": [
      "tuple1 is less than tuple2\n"
     ]
    }
   ],
   "source": [
    "\"\"\"18. Compare two tuples.\"\"\"\n",
    "tuple1 = (1, 2, 3)\n",
    "tuple2 = (1, 2, 4)\n",
    "\n",
    "if tuple1 < tuple2:\n",
    "    print(\"tuple1 is less than tuple2\")\n",
    "elif tuple1 == tuple2:\n",
    "    print(\"tuple1 is equal to tuple2\")\n",
    "else:\n",
    "    print(\"tuple1 is greater than tuple2\")"
   ]
  },
  {
   "cell_type": "code",
   "execution_count": 171,
   "id": "67cd49c0-8461-469a-96de-56697215b415",
   "metadata": {},
   "outputs": [
    {
     "name": "stdout",
     "output_type": "stream",
     "text": [
      "Before deletion: (1, 2, 3, 4, 5)\n",
      "Error: name 'my_tuple' is not defined\n"
     ]
    }
   ],
   "source": [
    "\"\"\"19. Delete a tuple.\"\"\"\n",
    "my_tuple = (1, 2, 3, 4, 5)\n",
    "print(\"Before deletion:\", my_tuple)\n",
    "\n",
    "del my_tuple\n",
    "\n",
    "try:\n",
    "    print(\"After deletion:\", my_tuple)\n",
    "except NameError as e:\n",
    "    print(\"Error:\", e)"
   ]
  },
  {
   "cell_type": "code",
   "execution_count": 173,
   "id": "09ecf911-c80b-49b6-bbe3-bd62a1843c45",
   "metadata": {},
   "outputs": [
    {
     "name": "stdout",
     "output_type": "stream",
     "text": [
      "Slice 1: (2, 3)\n",
      "Slice 2: (1, 2, 3)\n"
     ]
    }
   ],
   "source": [
    "\"\"\"20. Slice a tuple.\"\"\"\n",
    "my_tuple = (1, 2, 3, 4, 5)\n",
    "\n",
    "slice1 = my_tuple[1:3]\n",
    "print(\"Slice 1:\", slice1)\n",
    "\n",
    "slice2 = my_tuple[:3]\n",
    "print(\"Slice 2:\", slice2)"
   ]
  },
  {
   "cell_type": "code",
   "execution_count": 174,
   "id": "8c8913f3-e2b4-40ab-9c12-9bd2cfc65cf5",
   "metadata": {},
   "outputs": [
    {
     "name": "stdout",
     "output_type": "stream",
     "text": [
      "Maximum value in the tuple: 9\n"
     ]
    }
   ],
   "source": [
    "\"\"\"21. Find the maximum value in a tuple.\"\"\"\n",
    "my_tuple = (3, 7, 2, 9, 5)\n",
    "max_value = max(my_tuple)\n",
    "\n",
    "print(\"Maximum value in the tuple:\", max_value)"
   ]
  },
  {
   "cell_type": "code",
   "execution_count": 175,
   "id": "a1589372-1aa6-438e-8b6b-413193fcf40a",
   "metadata": {},
   "outputs": [
    {
     "name": "stdout",
     "output_type": "stream",
     "text": [
      "Minimum value in the tuple: 2\n"
     ]
    }
   ],
   "source": [
    "\"\"\"22. Find the minimum value in a tuple.\"\"\"\n",
    "my_tuple = (3, 7, 2, 9, 5)\n",
    "min_value = min(my_tuple)\n",
    "\n",
    "print(\"Minimum value in the tuple:\", min_value)"
   ]
  },
  {
   "cell_type": "code",
   "execution_count": 176,
   "id": "89c52a90-01be-4721-b3d0-e3b4fc9b2104",
   "metadata": {},
   "outputs": [
    {
     "name": "stdout",
     "output_type": "stream",
     "text": [
      "Tuple of characters: ('h', 'e', 'l', 'l', 'o')\n"
     ]
    }
   ],
   "source": [
    "\"\"\"23. Convert a string to a tuple of characters.\"\"\"\n",
    "my_string = \"hello\"\n",
    "tuple_of_characters = tuple(my_string)\n",
    "\n",
    "print(\"Tuple of characters:\", tuple_of_characters)"
   ]
  },
  {
   "cell_type": "code",
   "execution_count": 177,
   "id": "e4dc2317-9867-4c69-bf2e-afed1ae31416",
   "metadata": {},
   "outputs": [
    {
     "name": "stdout",
     "output_type": "stream",
     "text": [
      "String from tuple: hello\n"
     ]
    }
   ],
   "source": [
    "\"\"\"24. Convert a tuple of characters to a string.\"\"\"\n",
    "tuple_of_characters = ('h', 'e', 'l', 'l', 'o')\n",
    "string_from_tuple = ''.join(tuple_of_characters)\n",
    "\n",
    "print(\"String from tuple:\", string_from_tuple)"
   ]
  },
  {
   "cell_type": "code",
   "execution_count": 178,
   "id": "c0abd420-4d20-4424-9676-06a485d532eb",
   "metadata": {},
   "outputs": [
    {
     "name": "stdout",
     "output_type": "stream",
     "text": [
      "Mixed tuple: (1, 'hello', 3.14, True)\n"
     ]
    }
   ],
   "source": [
    "\"\"\"25. Create a tuple from multiple data types.\"\"\"\n",
    "mixed_tuple = (1, \"hello\", 3.14, True)\n",
    "\n",
    "print(\"Mixed tuple:\", mixed_tuple)"
   ]
  },
  {
   "cell_type": "code",
   "execution_count": 179,
   "id": "b299f5be-e226-420d-aa57-f4d2da95bdb3",
   "metadata": {},
   "outputs": [
    {
     "name": "stdout",
     "output_type": "stream",
     "text": [
      "The two tuples are identical.\n"
     ]
    }
   ],
   "source": [
    "\"\"\"26. Check if two tuples are identical.\"\"\"\n",
    "tuple1 = (1, 2, 3)\n",
    "tuple2 = (1, 2, 3)\n",
    "\n",
    "if tuple1 == tuple2:\n",
    "    print(\"The two tuples are identical.\")\n",
    "else:\n",
    "    print(\"The two tuples are not identical.\")"
   ]
  },
  {
   "cell_type": "code",
   "execution_count": 181,
   "id": "2bd7071c-0204-487e-b4d5-baa9b63d8772",
   "metadata": {},
   "outputs": [
    {
     "name": "stdout",
     "output_type": "stream",
     "text": [
      "Sorted tuple: (1, 1, 2, 3, 3, 4, 5, 5, 5, 6, 9)\n"
     ]
    }
   ],
   "source": [
    "\"\"\"27. Sort the elements of a tuple.\"\"\"\n",
    "my_tuple = (3, 1, 4, 1, 5, 9, 2, 6, 5, 3, 5)\n",
    "\n",
    "# Convert the tuple to a list, sort the list, and then convert it back to a tuple\n",
    "sorted_tuple = tuple(sorted(my_tuple))\n",
    "\n",
    "print(\"Sorted tuple:\", sorted_tuple)"
   ]
  },
  {
   "cell_type": "code",
   "execution_count": 182,
   "id": "a8ec9f63-d0f3-4826-af00-db82a62e4a2f",
   "metadata": {},
   "outputs": [
    {
     "name": "stdout",
     "output_type": "stream",
     "text": [
      "Tuple of integers: (1, 2, 3, 4, 5)\n",
      "Tuple of strings: ('1', '2', '3', '4', '5')\n"
     ]
    }
   ],
   "source": [
    "\"\"\"28. Convert a tuple of integers to a tuple of strings.\"\"\"\n",
    "tuple_of_integers = (1, 2, 3, 4, 5)\n",
    "\n",
    "tuple_of_strings = tuple(str(i) for i in tuple_of_integers)\n",
    "\n",
    "print(\"Tuple of integers:\", tuple_of_integers)\n",
    "print(\"Tuple of strings:\", tuple_of_strings)"
   ]
  },
  {
   "cell_type": "code",
   "execution_count": 184,
   "id": "9ee05b95-d99d-4388-a73b-0e920619b0ea",
   "metadata": {},
   "outputs": [
    {
     "name": "stdout",
     "output_type": "stream",
     "text": [
      "Tuple of strings: ('1', '2', '3', '4', '5')\n",
      "Tuple of integers: (1, 2, 3, 4, 5)\n"
     ]
    }
   ],
   "source": [
    "\"\"\"29. Convert a tuple of strings to a tuple of integers.\"\"\"\n",
    "tuple_of_strings = ('1', '2', '3', '4', '5')\n",
    "\n",
    "tuple_of_integers = tuple(int(s) for s in tuple_of_strings)\n",
    "\n",
    "print(\"Tuple of strings:\", tuple_of_strings)\n",
    "print(\"Tuple of integers:\", tuple_of_integers)"
   ]
  },
  {
   "cell_type": "code",
   "execution_count": 185,
   "id": "6f5381ee-96fd-411e-8804-6c2facadcc11",
   "metadata": {},
   "outputs": [
    {
     "name": "stdout",
     "output_type": "stream",
     "text": [
      "Merged tuple: (1, 2, 3, 'a', 'b', 'c')\n"
     ]
    }
   ],
   "source": [
    "\"\"\"30. Merge two tuples.\"\"\"\n",
    "tuple1 = (1, 2, 3)\n",
    "tuple2 = ('a', 'b', 'c')\n",
    "\n",
    "merged_tuple = tuple1 + tuple2\n",
    "\n",
    "print(\"Merged tuple:\", merged_tuple)"
   ]
  },
  {
   "cell_type": "code",
   "execution_count": 186,
   "id": "422552d9-4ef4-4a79-a9cc-a1a7ba2eeaba",
   "metadata": {},
   "outputs": [
    {
     "name": "stdout",
     "output_type": "stream",
     "text": [
      "Flattened tuple: (1, 2, 3, 4, 5, 6, 7)\n"
     ]
    }
   ],
   "source": [
    "\"\"\"31. Flatten a nested tuple.\"\"\"\n",
    "def flatten_tuple(nested_tuple):\n",
    "    flattened = ()\n",
    "    for item in nested_tuple:\n",
    "        if isinstance(item, tuple):\n",
    "            flattened += flatten_tuple(item)\n",
    "        else:\n",
    "            flattened += (item,)\n",
    "    return flattened\n",
    "\n",
    "nested_tuple = ((1, 2), (3, (4, 5)), (6, 7))\n",
    "\n",
    "flattened_tuple = flatten_tuple(nested_tuple)\n",
    "\n",
    "print(\"Flattened tuple:\", flattened_tuple)"
   ]
  },
  {
   "cell_type": "code",
   "execution_count": 187,
   "id": "6a913726-8a2c-4694-908a-42189bfa4e0d",
   "metadata": {},
   "outputs": [
    {
     "name": "stdout",
     "output_type": "stream",
     "text": [
      "Tuple of the first 5 prime numbers: (2, 3, 5, 7, 11)\n"
     ]
    }
   ],
   "source": [
    "\"\"\"32. Create a tuple of the first 5 prime numbers.\"\"\"\n",
    "def is_prime(num):\n",
    "    if num <= 1:\n",
    "        return False\n",
    "    elif num <= 3:\n",
    "        return True\n",
    "    elif num % 2 == 0 or num % 3 == 0:\n",
    "        return False\n",
    "    i = 5\n",
    "    while i * i <= num:\n",
    "        if num % i == 0 or num % (i + 2) == 0:\n",
    "            return False\n",
    "        i += 6\n",
    "    return True\n",
    "\n",
    "prime_numbers = []\n",
    "num = 2\n",
    "while len(prime_numbers) < 5:\n",
    "    if is_prime(num):\n",
    "        prime_numbers.append(num)\n",
    "    num += 1\n",
    "\n",
    "prime_tuple = tuple(prime_numbers)\n",
    "print(\"Tuple of the first 5 prime numbers:\", prime_tuple)"
   ]
  },
  {
   "cell_type": "code",
   "execution_count": 188,
   "id": "8a28752a-58e7-4674-9026-e6c7cd716013",
   "metadata": {},
   "outputs": [
    {
     "name": "stdout",
     "output_type": "stream",
     "text": [
      "Is tuple1 a palindrome? True\n",
      "Is tuple2 a palindrome? False\n"
     ]
    }
   ],
   "source": [
    "\"\"\"33. Check if a tuple is a palindrome.\"\"\"\n",
    "def is_palindrome(tuple_to_check):\n",
    "    return tuple_to_check == tuple_to_check[::-1]\n",
    "\n",
    "tuple1 = (1, 2, 3, 2, 1)\n",
    "tuple2 = (1, 2, 3, 4, 5)\n",
    "\n",
    "print(\"Is tuple1 a palindrome?\", is_palindrome(tuple1))\n",
    "print(\"Is tuple2 a palindrome?\", is_palindrome(tuple2))"
   ]
  },
  {
   "cell_type": "code",
   "execution_count": 189,
   "id": "1ed3ccc0-2797-40d6-a956-26e984d4cac4",
   "metadata": {},
   "outputs": [
    {
     "name": "stdout",
     "output_type": "stream",
     "text": [
      "Tuple of squares: (1, 4, 9, 16, 25)\n"
     ]
    }
   ],
   "source": [
    "\"\"\"34. Create a tuple of squares of numbers from 1 to 5.\"\"\"\n",
    "squares_tuple = tuple(i ** 2 for i in range(1, 6))\n",
    "\n",
    "print(\"Tuple of squares:\", squares_tuple)"
   ]
  },
  {
   "cell_type": "code",
   "execution_count": 190,
   "id": "343895a3-9a2f-4e50-96d3-f783c34b0af3",
   "metadata": {},
   "outputs": [
    {
     "name": "stdout",
     "output_type": "stream",
     "text": [
      "Filtered tuple (odd numbers only): (1, 3, 5, 7, 9)\n"
     ]
    }
   ],
   "source": [
    "\"\"\"35. Filter out all even numbers from a tuple.\"\"\"\n",
    "original_tuple = (1, 2, 3, 4, 5, 6, 7, 8, 9, 10)\n",
    "\n",
    "filtered_tuple = tuple(x for x in original_tuple if x % 2 != 0)\n",
    "\n",
    "print(\"Filtered tuple (odd numbers only):\", filtered_tuple)"
   ]
  },
  {
   "cell_type": "code",
   "execution_count": 191,
   "id": "7967d9ed-b084-4ddc-9095-2bb9dff26205",
   "metadata": {},
   "outputs": [
    {
     "name": "stdout",
     "output_type": "stream",
     "text": [
      "Multiplied tuple: (2, 4, 6, 8, 10)\n"
     ]
    }
   ],
   "source": [
    "\"\"\"36. Multiply all elements in a tuple by 2.\"\"\"\n",
    "original_tuple = (1, 2, 3, 4, 5)\n",
    "\n",
    "multiplied_tuple = tuple(x * 2 for x in original_tuple)\n",
    "\n",
    "print(\"Multiplied tuple:\", multiplied_tuple)"
   ]
  },
  {
   "cell_type": "code",
   "execution_count": 194,
   "id": "b6f5feeb-6506-4421-8e8e-4731377b00df",
   "metadata": {},
   "outputs": [
    {
     "name": "stdout",
     "output_type": "stream",
     "text": [
      "Tuple of random numbers: (36, 36, 1, 81, 8, 98, 74, 3, 36, 28)\n"
     ]
    }
   ],
   "source": [
    "\"\"\"37. Create a tuple of random numbers.\"\"\"\n",
    "random_tuple = tuple(random.randint(1,100) for _ in range(10))\n",
    "print(\"Tuple of random numbers:\", random_tuple)"
   ]
  },
  {
   "cell_type": "code",
   "execution_count": 195,
   "id": "5c9b71d2-37bb-4363-add9-cf2da1be1493",
   "metadata": {},
   "outputs": [
    {
     "name": "stdout",
     "output_type": "stream",
     "text": [
      "Is tuple1 sorted? True\n",
      "Is tuple2 sorted? False\n"
     ]
    }
   ],
   "source": [
    "\"\"\"38. Check if a tuple is sorted.\"\"\"\n",
    "def is_sorted_tuple(input_tuple):\n",
    "    return input_tuple == tuple(sorted(input_tuple))\n",
    "\n",
    "# Test cases\n",
    "tuple1 = (1, 2, 3, 4, 5)\n",
    "tuple2 = (5, 4, 3, 2, 1)\n",
    "\n",
    "print(\"Is tuple1 sorted?\", is_sorted_tuple(tuple1))\n",
    "print(\"Is tuple2 sorted?\", is_sorted_tuple(tuple2))"
   ]
  },
  {
   "cell_type": "code",
   "execution_count": 196,
   "id": "f225a493-3685-48fe-9e80-216e16dc9ea7",
   "metadata": {},
   "outputs": [
    {
     "name": "stdout",
     "output_type": "stream",
     "text": [
      "Original tuple: (1, 2, 3, 4, 5)\n",
      "Rotated tuple to the left by 2 positions: (3, 4, 5, 1, 2)\n"
     ]
    }
   ],
   "source": [
    "\"\"\"39. Rotate a tuple to the left by `n` positions.\"\"\"\n",
    "def rotate_left_tuple(input_tuple, n):\n",
    "    return input_tuple[n % len(input_tuple):] + input_tuple[:n % len(input_tuple)]\n",
    "\n",
    "original_tuple = (1, 2, 3, 4, 5)\n",
    "n = 2\n",
    "\n",
    "rotated_tuple = rotate_left_tuple(original_tuple, n)\n",
    "print(\"Original tuple:\", original_tuple)\n",
    "print(\"Rotated tuple to the left by\", n, \"positions:\", rotated_tuple)"
   ]
  },
  {
   "cell_type": "code",
   "execution_count": 198,
   "id": "d43cf97e-5171-4f6e-963b-2a054cf3cc4f",
   "metadata": {},
   "outputs": [
    {
     "name": "stdout",
     "output_type": "stream",
     "text": [
      "Original tuple: (1, 2, 3, 4, 5)\n",
      "Rotated tuple to the right by 2 positions: (4, 5, 1, 2, 3)\n"
     ]
    }
   ],
   "source": [
    "\"\"\"40. Rotate a tuple to the right by `n` positions.\"\"\"\n",
    "def rotate_right_tuple(input_tuple, n):\n",
    "    return input_tuple[-n % len(input_tuple):] + input_tuple[:-n % len(input_tuple)]\n",
    "\n",
    "original_tuple = (1, 2, 3, 4, 5)\n",
    "n = 2\n",
    "\n",
    "rotated_tuple = rotate_right_tuple(original_tuple, n)\n",
    "print(\"Original tuple:\", original_tuple)\n",
    "print(\"Rotated tuple to the right by\", n, \"positions:\", rotated_tuple)"
   ]
  },
  {
   "cell_type": "code",
   "execution_count": 200,
   "id": "b51c3829-f52d-409f-adc2-d04ee3722bad",
   "metadata": {},
   "outputs": [
    {
     "name": "stdout",
     "output_type": "stream",
     "text": [
      "Tuple of the first 5 Fibonacci numbers: (0, 1, 1, 2, 3)\n"
     ]
    }
   ],
   "source": [
    "\"\"\"41. Create a tuple of the first 5 Fibonacci numbers.\"\"\"\n",
    "def generate_fibonacci(n):\n",
    "    fibonacci = [0, 1]\n",
    "    for i in range(2, n):\n",
    "        next_fib = fibonacci[-1] + fibonacci[-2]\n",
    "        fibonacci.append(next_fib)\n",
    "    return tuple(fibonacci)\n",
    "\n",
    "fibonacci_tuple = generate_fibonacci(5)\n",
    "\n",
    "print(\"Tuple of the first 5 Fibonacci numbers:\", fibonacci_tuple)"
   ]
  },
  {
   "cell_type": "code",
   "execution_count": 202,
   "id": "446549e2-e991-4a3e-9556-e5cf9a8281ca",
   "metadata": {},
   "outputs": [
    {
     "name": "stdin",
     "output_type": "stream",
     "text": [
      "Enter elements separated by spaces:  Amiya Pani\n"
     ]
    },
    {
     "name": "stdout",
     "output_type": "stream",
     "text": [
      "Tuple from user input: ('Amiya', 'Pani')\n"
     ]
    }
   ],
   "source": [
    "\"\"\"42. Create a tuple from user input.\"\"\"\n",
    "user_input = input(\"Enter elements separated by spaces: \").split()\n",
    "user_tuple = tuple(user_input)\n",
    "\n",
    "print(\"Tuple from user input:\", user_tuple)"
   ]
  },
  {
   "cell_type": "code",
   "execution_count": 203,
   "id": "033cde04-17fb-4d8a-9476-57bc878302ab",
   "metadata": {},
   "outputs": [
    {
     "name": "stdout",
     "output_type": "stream",
     "text": [
      "Original tuple: (1, 2, 3, 4, 5)\n",
      "Swapped tuple: (1, 4, 3, 2, 5)\n"
     ]
    }
   ],
   "source": [
    "\"\"\"43. Swap two elements in a tuple.\"\"\"\n",
    "def swap_elements(tup, index1, index2):\n",
    "    temp_list = list(tup)\n",
    "    temp_list[index1], temp_list[index2] = temp_list[index2], temp_list[index1]\n",
    "    return tuple(temp_list)\n",
    "\n",
    "original_tuple = (1, 2, 3, 4, 5)\n",
    "index1 = 1\n",
    "index2 = 3\n",
    "\n",
    "swapped_tuple = swap_elements(original_tuple, index1, index2)\n",
    "print(\"Original tuple:\", original_tuple)\n",
    "print(\"Swapped tuple:\", swapped_tuple)"
   ]
  },
  {
   "cell_type": "code",
   "execution_count": 204,
   "id": "f9f5e53d-146e-40bd-8d7b-336d5029c046",
   "metadata": {},
   "outputs": [
    {
     "name": "stdout",
     "output_type": "stream",
     "text": [
      "Original tuple: (1, 2, 3, 4, 5)\n",
      "Reversed tuple: (5, 4, 3, 2, 1)\n"
     ]
    }
   ],
   "source": [
    "\"\"\"44. Reverse the elements of a tuple.\"\"\"\n",
    "original_tuple = (1, 2, 3, 4, 5)\n",
    "reversed_tuple = original_tuple[::-1]\n",
    "\n",
    "print(\"Original tuple:\", original_tuple)\n",
    "print(\"Reversed tuple:\", reversed_tuple)"
   ]
  },
  {
   "cell_type": "code",
   "execution_count": 205,
   "id": "f52ab699-57bc-415d-aa92-96bc05ada93e",
   "metadata": {},
   "outputs": [
    {
     "name": "stdout",
     "output_type": "stream",
     "text": [
      "Tuple of the first 5 powers of 2: (1, 2, 4, 8, 16)\n"
     ]
    }
   ],
   "source": [
    "\"\"\"45. Create a tuple of the first `n` powers of 2.\"\"\"\n",
    "def powers_of_2(n):\n",
    "    return tuple(2 ** i for i in range(n))\n",
    "\n",
    "n = 5\n",
    "powers_tuple = powers_of_2(n)\n",
    "\n",
    "print(\"Tuple of the first\", n, \"powers of 2:\", powers_tuple)"
   ]
  },
  {
   "cell_type": "code",
   "execution_count": 206,
   "id": "674aaf5a-629f-46a9-b281-2c84a9745bb7",
   "metadata": {},
   "outputs": [
    {
     "name": "stdout",
     "output_type": "stream",
     "text": [
      "Longest string in the tuple: strawberry\n"
     ]
    }
   ],
   "source": [
    "\"\"\"46. Find the longest string in a tuple of strings.\"\"\"\n",
    "def longest_string_in_tuple(string_tuple):\n",
    "    if not string_tuple:\n",
    "        return None\n",
    "\n",
    "    longest_string = string_tuple[0]\n",
    "    for string in string_tuple[1:]:\n",
    "        if len(string) > len(longest_string):\n",
    "            longest_string = string\n",
    "    return longest_string\n",
    "\n",
    "string_tuple = (\"apple\", \"banana\", \"orange\", \"kiwi\", \"strawberry\", \"pineapple\")\n",
    "longest_string = longest_string_in_tuple(string_tuple)\n",
    "\n",
    "if longest_string:\n",
    "    print(\"Longest string in the tuple:\", longest_string)\n",
    "else:\n",
    "    print(\"The tuple is empty.\")"
   ]
  },
  {
   "cell_type": "code",
   "execution_count": 210,
   "id": "39f2a3b4-00c0-493a-a660-edcc4498ad36",
   "metadata": {},
   "outputs": [
    {
     "name": "stdout",
     "output_type": "stream",
     "text": [
      "Shortest string in the tuple: kiwi\n"
     ]
    }
   ],
   "source": [
    "\"\"\"47. Find the shortest string in a tuple of strings.\"\"\"\n",
    "def shortest_string_in_tuple(string_tuple):\n",
    "    if not string_tuple:\n",
    "        return None\n",
    "\n",
    "    shortest_string = string_tuple[0]\n",
    "    for string in string_tuple[1:]:\n",
    "        if len(string) < len(shortest_string):\n",
    "            shortest_string = string\n",
    "    return shortest_string\n",
    "\n",
    "string_tuple = (\"apple\", \"banana\", \"orange\", \"kiwi\", \"strawberry\", \"pineapple\")\n",
    "shortest_string = shortest_string_in_tuple(string_tuple)\n",
    "\n",
    "if shortest_string:\n",
    "    print(\"Shortest string in the tuple:\", shortest_string)\n",
    "else:\n",
    "    print(\"The tuple is empty.\")"
   ]
  },
  {
   "cell_type": "code",
   "execution_count": 211,
   "id": "9b89b483-9614-4c01-bf4d-d40e9a2bcdf1",
   "metadata": {},
   "outputs": [
    {
     "name": "stdout",
     "output_type": "stream",
     "text": [
      "Tuple of the first 5 triangular numbers: (1, 3, 6, 10, 15)\n"
     ]
    }
   ],
   "source": [
    "\"\"\"48. Create a tuple of the first `n` triangular numbers.\"\"\"\n",
    "def triangular_numbers(n):\n",
    "    return tuple(i * (i + 1) // 2 for i in range(1, n + 1))\n",
    "\n",
    "n = 5\n",
    "triangular_numbers_tuple = triangular_numbers(n)\n",
    "\n",
    "print(\"Tuple of the first\", n, \"triangular numbers:\", triangular_numbers_tuple)"
   ]
  },
  {
   "cell_type": "code",
   "execution_count": 213,
   "id": "c5c6415f-4e89-4732-987c-5205d8c26059",
   "metadata": {},
   "outputs": [
    {
     "name": "stdout",
     "output_type": "stream",
     "text": [
      "The main tuple contains the subsequence.\n"
     ]
    }
   ],
   "source": [
    "\"\"\"49. Check if a tuple contains another tuple as a subsequence.\"\"\"\n",
    "def contains_subsequence(main_tuple, sub_tuple):\n",
    "    if len(sub_tuple) > len(main_tuple):\n",
    "        return False\n",
    "    for i in range(len(main_tuple) - len(sub_tuple) + 1):\n",
    "        if main_tuple[i:i+len(sub_tuple)] == sub_tuple:\n",
    "            return True\n",
    "    return False\n",
    "\n",
    "main_tuple = (1, 2, 3, 4, 5, 6, 7)\n",
    "sub_tuple = (3, 4, 5)\n",
    "\n",
    "if contains_subsequence(main_tuple, sub_tuple):\n",
    "    print(\"The main tuple contains the subsequence.\")\n",
    "else:\n",
    "    print(\"The main tuple does not contain the subsequence.\")"
   ]
  },
  {
   "cell_type": "code",
   "execution_count": 214,
   "id": "5cdd88b9-c271-41bf-9d21-9b9c4caa9c28",
   "metadata": {},
   "outputs": [
    {
     "name": "stdout",
     "output_type": "stream",
     "text": [
      "Tuple of alternating 1s and 0s of length 7 : (1, 0, 1, 0, 1, 0, 1)\n"
     ]
    }
   ],
   "source": [
    "\"\"\"50. Create a tuple of alternating 1s and 0s of length `n`.\"\"\"\n",
    "def alternating_ones_and_zeros(n):\n",
    "    return tuple(1 if i % 2 == 0 else 0 for i in range(n))\n",
    "\n",
    "n = 7\n",
    "alternating_tuple = alternating_ones_and_zeros(n)\n",
    "\n",
    "print(\"Tuple of alternating 1s and 0s of length\", n, \":\", alternating_tuple)"
   ]
  },
  {
   "cell_type": "markdown",
   "id": "988e6702-691e-4eb7-94cc-38f8ac12b5b5",
   "metadata": {},
   "source": [
    "Set Based Practice Problem :"
   ]
  },
  {
   "cell_type": "code",
   "execution_count": 215,
   "id": "fb116d00-1633-4c47-8686-c1fb4040b5c2",
   "metadata": {},
   "outputs": [
    {
     "name": "stdout",
     "output_type": "stream",
     "text": [
      "Set with integers from 1 to 5: {1, 2, 3, 4, 5}\n"
     ]
    }
   ],
   "source": [
    "\"\"\"1. Create a set with integers from 1 to 5.\"\"\"\n",
    "integer_set = set(range(1, 6))\n",
    "\n",
    "print(\"Set with integers from 1 to 5:\", integer_set)"
   ]
  },
  {
   "cell_type": "code",
   "execution_count": 216,
   "id": "ff78353f-fd37-4235-964a-5cc8a7b3d9c4",
   "metadata": {},
   "outputs": [
    {
     "name": "stdout",
     "output_type": "stream",
     "text": [
      "Set after adding an element: {1, 2, 3, 4, 5, 6}\n"
     ]
    }
   ],
   "source": [
    "\"\"\"2. Add an element to a set.\"\"\"\n",
    "my_set = {1, 2, 3, 4, 5}\n",
    "my_set.add(6)\n",
    "\n",
    "print(\"Set after adding an element:\", my_set)"
   ]
  },
  {
   "cell_type": "code",
   "execution_count": 217,
   "id": "1f0d5e3e-33fd-40dd-b0bf-2f6dc11870d0",
   "metadata": {},
   "outputs": [
    {
     "name": "stdout",
     "output_type": "stream",
     "text": [
      "Set after removing an element: {1, 2, 4, 5}\n"
     ]
    }
   ],
   "source": [
    "\"\"\"3. Remove an element from a set.\"\"\"\n",
    "my_set = {1, 2, 3, 4, 5}\n",
    "my_set.remove(3)\n",
    "\n",
    "print(\"Set after removing an element:\", my_set)"
   ]
  },
  {
   "cell_type": "code",
   "execution_count": 220,
   "id": "2b52460e-078a-494e-907f-f21013764c85",
   "metadata": {},
   "outputs": [
    {
     "name": "stdout",
     "output_type": "stream",
     "text": [
      "3 exists in the set.\n"
     ]
    }
   ],
   "source": [
    "\"\"\"4. Check if an element exists in a set.\"\"\"\n",
    "my_set = {1, 2, 3, 4, 5}\n",
    "\n",
    "element_to_check = 3\n",
    "if element_to_check in my_set:\n",
    "    print(f\"{element_to_check} exists in the set.\")\n",
    "else:\n",
    "    print(f\"{element_to_check} does not exist in the set.\")"
   ]
  },
  {
   "cell_type": "code",
   "execution_count": 221,
   "id": "3bc3435f-01b5-4a77-a65f-ab44fa77cc8d",
   "metadata": {},
   "outputs": [
    {
     "name": "stdout",
     "output_type": "stream",
     "text": [
      "Length of the set: 5\n"
     ]
    }
   ],
   "source": [
    "\"\"\"5. Find the length of a set without using the `len()` function.\"\"\"\n",
    "my_set = {1, 2, 3, 4, 5}\n",
    "\n",
    "set_length = 0\n",
    "for _ in my_set:\n",
    "    set_length += 1\n",
    "\n",
    "print(\"Length of the set:\", set_length)"
   ]
  },
  {
   "cell_type": "code",
   "execution_count": 222,
   "id": "9e18364a-ea94-47e4-a145-3b29a05e3bab",
   "metadata": {},
   "outputs": [
    {
     "name": "stdout",
     "output_type": "stream",
     "text": [
      "Set after clearing all elements: set()\n"
     ]
    }
   ],
   "source": [
    "\"\"\"6. Clear all elements from a set.\"\"\"\n",
    "my_set = {1, 2, 3, 4, 5}\n",
    "my_set.clear()\n",
    "\n",
    "print(\"Set after clearing all elements:\", my_set)"
   ]
  },
  {
   "cell_type": "code",
   "execution_count": 223,
   "id": "ad40f35d-1699-4ed1-afd0-b4bb5b42cd4c",
   "metadata": {},
   "outputs": [
    {
     "name": "stdout",
     "output_type": "stream",
     "text": [
      "Set of even numbers from 1 to 10: {2, 4, 6, 8, 10}\n"
     ]
    }
   ],
   "source": [
    "\"\"\"7. Create a set of even numbers from 1 to 10.\"\"\"\n",
    "even_numbers_set = {num for num in range(1, 11) if num % 2 == 0}\n",
    "\n",
    "print(\"Set of even numbers from 1 to 10:\", even_numbers_set)"
   ]
  },
  {
   "cell_type": "code",
   "execution_count": 224,
   "id": "67eb0532-a828-4234-b7bf-2940556ef091",
   "metadata": {},
   "outputs": [
    {
     "name": "stdout",
     "output_type": "stream",
     "text": [
      "Set of odd numbers from 1 to 10: {1, 3, 5, 7, 9}\n"
     ]
    }
   ],
   "source": [
    "\"\"\"8. Create a set of odd numbers from 1 to 10.\"\"\"\n",
    "odd_numbers_set = {num for num in range(1, 11) if num % 2 != 0}\n",
    "\n",
    "print(\"Set of odd numbers from 1 to 10:\", odd_numbers_set)"
   ]
  },
  {
   "cell_type": "code",
   "execution_count": 225,
   "id": "1661e35f-a862-4149-86b0-6bc14be650ce",
   "metadata": {},
   "outputs": [
    {
     "name": "stdout",
     "output_type": "stream",
     "text": [
      "Union of set1 and set2: {1, 2, 3, 4, 5, 6, 7, 8}\n"
     ]
    }
   ],
   "source": [
    "\"\"\"9. Find the union of two sets.\"\"\"\n",
    "set1 = {1, 2, 3, 4, 5}\n",
    "set2 = {4, 5, 6, 7, 8}\n",
    "\n",
    "union_set = set1.union(set2)\n",
    "\n",
    "print(\"Union of set1 and set2:\", union_set)"
   ]
  },
  {
   "cell_type": "code",
   "execution_count": 226,
   "id": "e05b914d-f35c-4e96-9513-fbb0806375c8",
   "metadata": {},
   "outputs": [
    {
     "name": "stdout",
     "output_type": "stream",
     "text": [
      "Intersection of set1 and set2: {4, 5}\n"
     ]
    }
   ],
   "source": [
    "\"\"\"10. Find the intersection of two sets.\"\"\"\n",
    "set1 = {1, 2, 3, 4, 5}\n",
    "set2 = {4, 5, 6, 7, 8}\n",
    "intersection_set = set1 & set2\n",
    "\n",
    "print(\"Intersection of set1 and set2:\", intersection_set)"
   ]
  },
  {
   "cell_type": "code",
   "execution_count": 227,
   "id": "d41ddd2c-945e-4914-906f-d36672bf9a0a",
   "metadata": {},
   "outputs": [
    {
     "name": "stdout",
     "output_type": "stream",
     "text": [
      "Difference between set1 and set2: {1, 2, 3}\n",
      "Difference between set1 and set2: {1, 2, 3}\n"
     ]
    }
   ],
   "source": [
    "\"\"\"11. Find the difference between two sets.\"\"\"\n",
    "set1 = {1, 2, 3, 4, 5}\n",
    "set2 = {4, 5, 6, 7, 8}\n",
    "\n",
    "difference_set = set1 - set2\n",
    "difference_set_ = set1.difference(set2)\n",
    "\n",
    "print(\"Difference between set1 and set2:\", difference_set)\n",
    "print(\"Difference between set1 and set2:\", difference_set_)"
   ]
  },
  {
   "cell_type": "code",
   "execution_count": 228,
   "id": "86c302eb-a8e6-430b-99e4-b4f65f347da2",
   "metadata": {},
   "outputs": [
    {
     "name": "stdout",
     "output_type": "stream",
     "text": [
      "Is set1 a subset of set2? True\n"
     ]
    }
   ],
   "source": [
    "\"\"\"12. Check if a set is a subset of another set.\"\"\"\n",
    "set1 = {1, 2, 3}\n",
    "set2 = {1, 2, 3, 4, 5}\n",
    "is_subset = set1.issubset(set2)\n",
    "\n",
    "print(\"Is set1 a subset of set2?\", is_subset)"
   ]
  },
  {
   "cell_type": "code",
   "execution_count": 229,
   "id": "725b0707-bd0f-48b4-87b0-f41ab1d72fdd",
   "metadata": {},
   "outputs": [
    {
     "name": "stdout",
     "output_type": "stream",
     "text": [
      "Is set1 a superset of set2? True\n"
     ]
    }
   ],
   "source": [
    "\"\"\"13. Check if a set is a superset of another set.\"\"\"\n",
    "set1 = {1, 2, 3, 4, 5}\n",
    "set2 = {1, 2, 3}\n",
    "is_superset = set1.issuperset(set2)\n",
    "\n",
    "print(\"Is set1 a superset of set2?\", is_superset)"
   ]
  },
  {
   "cell_type": "code",
   "execution_count": 230,
   "id": "5d222f8f-2e99-4de0-851b-35d9a9998913",
   "metadata": {},
   "outputs": [
    {
     "name": "stdout",
     "output_type": "stream",
     "text": [
      "Set from the list: {1, 2, 3, 4, 5}\n"
     ]
    }
   ],
   "source": [
    "\"\"\"14. Create a set from a list.\"\"\"\n",
    "my_list = [1, 2, 3, 4, 5]\n",
    "my_set = set(my_list)\n",
    "\n",
    "print(\"Set from the list:\", my_set)"
   ]
  },
  {
   "cell_type": "code",
   "execution_count": 231,
   "id": "4b1403ac-e552-442d-b31e-88a4d08af0d6",
   "metadata": {},
   "outputs": [
    {
     "name": "stdout",
     "output_type": "stream",
     "text": [
      "List from the set: [1, 2, 3, 4, 5]\n"
     ]
    }
   ],
   "source": [
    "\"\"\"15. Convert a set to a list.\"\"\"\n",
    "my_set = {1, 2, 3, 4, 5}\n",
    "my_list = list(my_set)\n",
    "\n",
    "print(\"List from the set:\", my_list)"
   ]
  },
  {
   "cell_type": "code",
   "execution_count": 239,
   "id": "02b8ccca-aff4-4916-a1e7-698b3a4831e1",
   "metadata": {},
   "outputs": [
    {
     "name": "stdout",
     "output_type": "stream",
     "text": [
      "Removed random element: 4\n",
      "Set after removing random element: {1, 2, 3, 5}\n"
     ]
    }
   ],
   "source": [
    "\"\"\"16. Remove a random element from a set.\"\"\"\n",
    "import random\n",
    "my_set = {1, 2, 3, 4, 5}\n",
    "set_list = list(my_set)\n",
    "random_element = random.choice(set_list)\n",
    "my_set.remove(random_element)\n",
    "\n",
    "print(\"Removed random element:\", random_element)\n",
    "print(\"Set after removing random element:\", my_set)"
   ]
  },
  {
   "cell_type": "code",
   "execution_count": 240,
   "id": "d27febe4-591d-41bb-9edd-4bb57adfb6eb",
   "metadata": {},
   "outputs": [
    {
     "name": "stdout",
     "output_type": "stream",
     "text": [
      "Popped element: 1\n",
      "Set after popping element: {2, 3, 4, 5}\n"
     ]
    }
   ],
   "source": [
    "\"\"\"17. Pop an element from a set.\"\"\"\n",
    "my_set = {1, 2, 3, 4, 5}\n",
    "popped_element = my_set.pop()\n",
    "\n",
    "print(\"Popped element:\", popped_element)\n",
    "print(\"Set after popping element:\", my_set)"
   ]
  },
  {
   "cell_type": "code",
   "execution_count": 241,
   "id": "0f5995d2-0f34-49c0-ac1b-04f15c489275",
   "metadata": {},
   "outputs": [
    {
     "name": "stdout",
     "output_type": "stream",
     "text": [
      "The sets have no elements in common.\n"
     ]
    }
   ],
   "source": [
    "\"\"\"18. Check if two sets have no elements in common.\"\"\"\n",
    "set1 = {1, 2, 3}\n",
    "set2 = {4, 5, 6}\n",
    "\n",
    "no_common_elements = set1.isdisjoint(set2)\n",
    "\n",
    "if no_common_elements:\n",
    "    print(\"The sets have no elements in common.\")\n",
    "else:\n",
    "    print(\"The sets have elements in common.\")"
   ]
  },
  {
   "cell_type": "code",
   "execution_count": 242,
   "id": "2d104709-d615-4954-be29-b32dfda11ab8",
   "metadata": {},
   "outputs": [
    {
     "name": "stdout",
     "output_type": "stream",
     "text": [
      "Symmetric difference between set1 and set2: {1, 2, 5, 6}\n"
     ]
    }
   ],
   "source": [
    "\"\"\"19. Find the symmetric difference between two sets.\"\"\"\n",
    "set1 = {1, 2, 3, 4}\n",
    "set2 = {3, 4, 5, 6}\n",
    "symmetric_difference_set = set1.symmetric_difference(set2)\n",
    "\n",
    "print(\"Symmetric difference between set1 and set2:\", symmetric_difference_set)"
   ]
  },
  {
   "cell_type": "code",
   "execution_count": 243,
   "id": "f13b156f-6524-4abf-8c8e-638d48a51cca",
   "metadata": {},
   "outputs": [
    {
     "name": "stdout",
     "output_type": "stream",
     "text": [
      "Updated set1: {1, 2, 3, 4, 5}\n"
     ]
    }
   ],
   "source": [
    "\"\"\"20. Update a set with elements from another set.\"\"\"\n",
    "set1 = {1, 2, 3}\n",
    "set2 = {3, 4, 5}\n",
    "set1.update(set2)\n",
    "\n",
    "print(\"Updated set1:\", set1)"
   ]
  },
  {
   "cell_type": "code",
   "execution_count": 246,
   "id": "8bc7e723-e905-49fd-8994-188e43d5f698",
   "metadata": {},
   "outputs": [
    {
     "name": "stdout",
     "output_type": "stream",
     "text": [
      "Set of the first 5 prime numbers: {2, 3, 5, 7, 11}\n"
     ]
    }
   ],
   "source": [
    "\"\"\"21. Create a set of the first 5 prime numbers.\"\"\"\n",
    "def is_prime(num):\n",
    "    if num <= 1:\n",
    "        return False\n",
    "    if num <= 3:\n",
    "        return True\n",
    "    if num % 2 == 0 or num % 3 == 0:\n",
    "        return False\n",
    "    i = 5\n",
    "    while i * i <= num:\n",
    "        if num % i == 0 or num % (i + 2) == 0:\n",
    "            return False\n",
    "        i += 6\n",
    "    return True\n",
    "\n",
    "prime_set = set()\n",
    "count = 0\n",
    "num = 2\n",
    "while count < 5:\n",
    "    if is_prime(num):\n",
    "        prime_set.add(num)\n",
    "        count += 1\n",
    "    num += 1\n",
    "\n",
    "print(\"Set of the first 5 prime numbers:\", prime_set)"
   ]
  },
  {
   "cell_type": "code",
   "execution_count": 249,
   "id": "727d55ff-0360-4bf2-9240-29b04d942376",
   "metadata": {},
   "outputs": [
    {
     "name": "stdout",
     "output_type": "stream",
     "text": [
      "The sets are identical.\n"
     ]
    }
   ],
   "source": [
    "\"\"\"22. Check if two sets are identical.\"\"\"\n",
    "set1 = {1, 2, 3}\n",
    "set2 = {3, 2, 1}\n",
    "\n",
    "if set1 == set2:\n",
    "    print(\"The sets are identical.\")\n",
    "else:\n",
    "    print(\"The sets are not identical.\")"
   ]
  },
  {
   "cell_type": "code",
   "execution_count": 250,
   "id": "b6d7d1af-29c9-4f0a-9159-34353f11db8c",
   "metadata": {},
   "outputs": [
    {
     "name": "stdout",
     "output_type": "stream",
     "text": [
      "Frozen set: frozenset({1, 2, 3, 4, 5})\n"
     ]
    }
   ],
   "source": [
    "\"\"\"23. Create a frozen set.\"\"\"\n",
    "my_set = {1, 2, 3, 4, 5}\n",
    "frozen_set = frozenset(my_set)\n",
    "\n",
    "print(\"Frozen set:\", frozen_set)"
   ]
  },
  {
   "cell_type": "code",
   "execution_count": 253,
   "id": "5cde351d-4caf-49e9-8ac0-5347bbc1c215",
   "metadata": {},
   "outputs": [
    {
     "name": "stdout",
     "output_type": "stream",
     "text": [
      "The sets are disjoint.\n"
     ]
    }
   ],
   "source": [
    "\"\"\"24. Check if a set is disjoint with another set.\"\"\"\n",
    "set1 = {1, 2, 3}\n",
    "set2 = {4, 5, 6}\n",
    "if set1.isdisjoint(set2):\n",
    "    print(\"The sets are disjoint.\")\n",
    "else:\n",
    "    print(\"The sets are not disjoint.\")"
   ]
  },
  {
   "cell_type": "code",
   "execution_count": 254,
   "id": "0fda4233-b454-4deb-9d80-f7f084865934",
   "metadata": {},
   "outputs": [
    {
     "name": "stdout",
     "output_type": "stream",
     "text": [
      "Set of squares of numbers from 1 to 5: {1, 4, 9, 16, 25}\n"
     ]
    }
   ],
   "source": [
    "\"\"\"25. Create a set of squares of numbers from 1 to 5.\"\"\"\n",
    "squares_set = {x**2 for x in range(1, 6)}\n",
    "\n",
    "print(\"Set of squares of numbers from 1 to 5:\", squares_set)"
   ]
  },
  {
   "cell_type": "code",
   "execution_count": 255,
   "id": "5d78192a-2a0c-4caa-b716-e67d2555231b",
   "metadata": {},
   "outputs": [
    {
     "name": "stdout",
     "output_type": "stream",
     "text": [
      "Filtered set with even numbers removed: {1, 3, 5, 7, 9}\n"
     ]
    }
   ],
   "source": [
    "\"\"\"26. Filter out all even numbers from a set.\"\"\"\n",
    "original_set = {1, 2, 3, 4, 5, 6, 7, 8, 9, 10}\n",
    "filtered_set = {x for x in original_set if x % 2 != 0}\n",
    "\n",
    "print(\"Filtered set with even numbers removed:\", filtered_set)"
   ]
  },
  {
   "cell_type": "code",
   "execution_count": 256,
   "id": "f3b8fc43-a10c-4fac-94e3-b04f5a7d2486",
   "metadata": {},
   "outputs": [
    {
     "name": "stdout",
     "output_type": "stream",
     "text": [
      "Original set: {1, 2, 3, 4, 5}\n",
      "New set with elements multiplied by 2: {2, 4, 6, 8, 10}\n"
     ]
    }
   ],
   "source": [
    "\"\"\"27. Multiply all elements in a set by 2.\"\"\"\n",
    "original_set = {1, 2, 3, 4, 5}\n",
    "new_set = {x * 2 for x in original_set}\n",
    "\n",
    "print(\"Original set:\", original_set)\n",
    "print(\"New set with elements multiplied by 2:\", new_set)"
   ]
  },
  {
   "cell_type": "code",
   "execution_count": 257,
   "id": "b6be587f-8546-4182-a48a-db062f4b8546",
   "metadata": {},
   "outputs": [
    {
     "name": "stdout",
     "output_type": "stream",
     "text": [
      "Set of random numbers: {48, 50, 93, 62}\n"
     ]
    }
   ],
   "source": [
    "\"\"\"28. Create a set of random numbers.\"\"\"\n",
    "import random\n",
    "random_set = {random.randint(1, 100) for _ in range(5)}\n",
    "\n",
    "print(\"Set of random numbers:\", random_set)"
   ]
  },
  {
   "cell_type": "code",
   "execution_count": 258,
   "id": "daadfeab-5b48-47b6-bb5f-e3452ba9b9fc",
   "metadata": {},
   "outputs": [
    {
     "name": "stdout",
     "output_type": "stream",
     "text": [
      "The set is empty.\n"
     ]
    }
   ],
   "source": [
    "\"\"\"29. Check if a set is empty.\"\"\"\n",
    "my_set = set()\n",
    "if not my_set:\n",
    "    print(\"The set is empty.\")\n",
    "else:\n",
    "    print(\"The set is not empty.\")"
   ]
  },
  {
   "cell_type": "code",
   "execution_count": 259,
   "id": "ca9640d2-d420-410b-a91b-d65358c80040",
   "metadata": {},
   "outputs": [
    {
     "name": "stdout",
     "output_type": "stream",
     "text": [
      "Nested set: {frozenset({1, 2, 3}), frozenset({'c', 'a', 'b'})}\n"
     ]
    }
   ],
   "source": [
    "\"\"\"30. Create a nested set (hint: use frozenset).\"\"\"\n",
    "nested_set = {frozenset({1, 2, 3}), frozenset({'a', 'b', 'c'})}\n",
    "\n",
    "print(\"Nested set:\", nested_set)"
   ]
  },
  {
   "cell_type": "code",
   "execution_count": 260,
   "id": "3e4e7ae9-e40a-4694-b9f0-f6a3fb58e543",
   "metadata": {},
   "outputs": [
    {
     "name": "stdout",
     "output_type": "stream",
     "text": [
      "Set after removing element 3: {1, 2, 4, 5}\n"
     ]
    }
   ],
   "source": [
    "\"\"\"31. Remove an element from a set using the discard method.\"\"\"\n",
    "my_set = {1, 2, 3, 4, 5}\n",
    "my_set.discard(3)\n",
    "\n",
    "print(\"Set after removing element 3:\", my_set)"
   ]
  },
  {
   "cell_type": "code",
   "execution_count": 264,
   "id": "2aec2ae2-5990-4372-824c-422e637a2bb9",
   "metadata": {},
   "outputs": [
    {
     "name": "stdout",
     "output_type": "stream",
     "text": [
      "Are set1 and set2 equal? True\n",
      "Is set1 a subset of set3? True\n",
      "Is set3 a superset of set4? False\n"
     ]
    }
   ],
   "source": [
    "\"\"\"32. Compare two sets.\"\"\"\n",
    "set1 = {1, 2, 3}\n",
    "set2 = {3, 2, 1}\n",
    "set3 = {1, 2, 3, 4}\n",
    "set4 = {1, 2}\n",
    "\n",
    "# Check if set1 and set2 are equal\n",
    "print(\"Are set1 and set2 equal?\", set1 == set2)\n",
    "\n",
    "# Check if set1 is a subset of set3\n",
    "print(\"Is set1 a subset of set3?\", set1 < set3)\n",
    "\n",
    "# Check if set3 is a subset of set4\n",
    "print(\"Is set3 a superset of set4?\", set3 < set4)"
   ]
  },
  {
   "cell_type": "code",
   "execution_count": 265,
   "id": "f116ea49-ff2f-4d8b-bef2-b810dddf4192",
   "metadata": {},
   "outputs": [
    {
     "name": "stdout",
     "output_type": "stream",
     "text": [
      "Set from the string: {' ', 'r', 'w', 'h', 'd', 'l', 'e', 'o'}\n"
     ]
    }
   ],
   "source": [
    "\"\"\"33. Create a set from a string.\"\"\"\n",
    "my_string = \"hello world\"\n",
    "my_set = set(my_string)\n",
    "\n",
    "print(\"Set from the string:\", my_set)"
   ]
  },
  {
   "cell_type": "code",
   "execution_count": 266,
   "id": "818aa29c-c471-464d-bf0c-2fdab5844f7f",
   "metadata": {},
   "outputs": [
    {
     "name": "stdout",
     "output_type": "stream",
     "text": [
      "Set of integers: {1, 2, 3, 4, 5}\n"
     ]
    }
   ],
   "source": [
    "\"\"\"34. Convert a set of strings to a set of integers.\"\"\"\n",
    "set_of_strings = {\"1\", \"2\", \"3\", \"4\", \"5\"}\n",
    "set_of_integers = {int(x) for x in set_of_strings}\n",
    "\n",
    "print(\"Set of integers:\", set_of_integers)"
   ]
  },
  {
   "cell_type": "code",
   "execution_count": 267,
   "id": "a697285e-ba69-4bcb-8b5d-7ade0b2c7139",
   "metadata": {},
   "outputs": [
    {
     "name": "stdout",
     "output_type": "stream",
     "text": [
      "Set of strings: {'4', '2', '5', '1', '3'}\n"
     ]
    }
   ],
   "source": [
    "\"\"\"35. Convert a set of integers to a set of strings.\"\"\"\n",
    "set_of_integers = {1, 2, 3, 4, 5}\n",
    "set_of_strings = {str(x) for x in set_of_integers}\n",
    "\n",
    "print(\"Set of strings:\", set_of_strings)"
   ]
  },
  {
   "cell_type": "code",
   "execution_count": 268,
   "id": "35e063e5-c245-4720-a17a-f7a4b0e56284",
   "metadata": {},
   "outputs": [
    {
     "name": "stdout",
     "output_type": "stream",
     "text": [
      "Set from the tuple: {1, 2, 3, 4, 5}\n"
     ]
    }
   ],
   "source": [
    "\"\"\"36. Create a set from a tuple.\"\"\"\n",
    "my_tuple = (1, 2, 3, 4, 5)\n",
    "my_set = set(my_tuple)\n",
    "\n",
    "print(\"Set from the tuple:\", my_set)"
   ]
  },
  {
   "cell_type": "code",
   "execution_count": 270,
   "id": "d898a28a-9c16-461b-99f4-2ab450fe5c49",
   "metadata": {},
   "outputs": [
    {
     "name": "stdout",
     "output_type": "stream",
     "text": [
      "Tuple from the set: (1, 2, 3, 4, 5)\n"
     ]
    }
   ],
   "source": [
    "\"\"\"37. Convert a set to a tuple.\"\"\"\n",
    "my_set = {1, 2, 3, 4, 5}\n",
    "my_tuple = tuple(my_set)\n",
    "\n",
    "print(\"Tuple from the set:\", my_tuple)"
   ]
  },
  {
   "cell_type": "code",
   "execution_count": 271,
   "id": "601efbca-0048-4f50-829c-dd08895c8ac7",
   "metadata": {},
   "outputs": [
    {
     "name": "stdout",
     "output_type": "stream",
     "text": [
      "Maximum value in the set: 9\n"
     ]
    }
   ],
   "source": [
    "\"\"\"38. Find the maximum value in a set.\"\"\"\n",
    "my_set = {1, 3, 5, 7, 9}\n",
    "max_value = max(my_set)\n",
    "\n",
    "print(\"Maximum value in the set:\", max_value)"
   ]
  },
  {
   "cell_type": "code",
   "execution_count": 272,
   "id": "6cdf6941-5c3c-4c30-abaf-3e875de4eaaf",
   "metadata": {},
   "outputs": [
    {
     "name": "stdout",
     "output_type": "stream",
     "text": [
      "Minimum value in the set: 1\n"
     ]
    }
   ],
   "source": [
    "\"\"\"39. Find the minimum value in a set.\"\"\"\n",
    "my_set = {1, 3, 5, 7, 9}\n",
    "min_value = min(my_set)\n",
    "\n",
    "print(\"Minimum value in the set:\", min_value)"
   ]
  },
  {
   "cell_type": "code",
   "execution_count": 275,
   "id": "fd425ded-a1bd-4486-9ed0-b2bdc5a66bc7",
   "metadata": {},
   "outputs": [
    {
     "name": "stdin",
     "output_type": "stream",
     "text": [
      "Enter the string Amiya amiya Amiya\n"
     ]
    },
    {
     "name": "stdout",
     "output_type": "stream",
     "text": [
      "Set created from user input: {'amiya', 'Amiya'}\n"
     ]
    }
   ],
   "source": [
    "\"\"\"40. Create a set from user input.\"\"\"\n",
    "user_set = set()\n",
    "user_input = input(\"Enter the string\")\n",
    "user_set=set(user_input.split())\n",
    "print(\"Set created from user input:\", user_set)"
   ]
  },
  {
   "cell_type": "code",
   "execution_count": 276,
   "id": "4074a357-77c9-4b0a-b14a-46d5f2c210b0",
   "metadata": {},
   "outputs": [
    {
     "name": "stdout",
     "output_type": "stream",
     "text": [
      "The intersection of set1 and set2 is empty.\n"
     ]
    }
   ],
   "source": [
    "\"\"\"41. Check if the intersection of two sets is empty.\"\"\"\n",
    "set1 = {1, 2, 3}\n",
    "set2 = {4, 5, 6}\n",
    "if set1.isdisjoint(set2):\n",
    "    print(\"The intersection of set1 and set2 is empty.\")\n",
    "else:\n",
    "    print(\"The intersection of set1 and set2 is not empty.\")"
   ]
  },
  {
   "cell_type": "code",
   "execution_count": 277,
   "id": "879f8607-7cfb-4c99-a47d-1a5d5198a2e7",
   "metadata": {},
   "outputs": [
    {
     "name": "stdout",
     "output_type": "stream",
     "text": [
      "Set of the first 5 Fibonacci numbers: {0, 1, 2, 3}\n"
     ]
    }
   ],
   "source": [
    "\"\"\"42. Create a set of the first 5 Fibonacci numbers.\"\"\"\n",
    "def fibonacci(n):\n",
    "    fib_set = set()\n",
    "    a, b = 0, 1\n",
    "    for _ in range(n):\n",
    "        fib_set.add(a)\n",
    "        a, b = b, a + b\n",
    "    return fib_set\n",
    "\n",
    "fib_set = fibonacci(5)\n",
    "\n",
    "print(\"Set of the first 5 Fibonacci numbers:\", fib_set)"
   ]
  },
  {
   "cell_type": "code",
   "execution_count": 278,
   "id": "209789a7-5d26-4edc-88cd-5625ebae9bad",
   "metadata": {},
   "outputs": [
    {
     "name": "stdout",
     "output_type": "stream",
     "text": [
      "List after removing duplicates: [1, 2, 3, 4, 5, 6, 7]\n"
     ]
    }
   ],
   "source": [
    "\"\"\"43. Remove duplicates from a list using sets.\"\"\"\n",
    "original_list = [1, 2, 3, 3, 4, 5, 5, 6, 6, 7]\n",
    "unique_list = list(set(original_list))\n",
    "\n",
    "print(\"List after removing duplicates:\", unique_list)"
   ]
  },
  {
   "cell_type": "code",
   "execution_count": 279,
   "id": "3b1120bc-04ee-4f3c-b8a0-ab72cd721500",
   "metadata": {},
   "outputs": [
    {
     "name": "stdout",
     "output_type": "stream",
     "text": [
      "set1 and set2 have the same elements.\n",
      "set1 and set3 have the same elements.\n"
     ]
    }
   ],
   "source": [
    "\"\"\"44. Check if two sets have the same elements, regardless of their count.\"\"\"\n",
    "set1 = {1, 2, 3, 4}\n",
    "set2 = {4, 3, 2, 1}\n",
    "set3 = {1, 2, 3, 4, 4}\n",
    "\n",
    "if set1 == set2:\n",
    "    print(\"set1 and set2 have the same elements.\")\n",
    "else:\n",
    "    print(\"set1 and set2 do not have the same elements.\")\n",
    "\n",
    "if set1 == set3:\n",
    "    print(\"set1 and set3 have the same elements.\")\n",
    "else:\n",
    "    print(\"set1 and set3 do not have the same elements.\")"
   ]
  },
  {
   "cell_type": "code",
   "execution_count": 280,
   "id": "48dfd9f9-9657-410c-97ce-480ec79f362f",
   "metadata": {},
   "outputs": [
    {
     "name": "stdout",
     "output_type": "stream",
     "text": [
      "Set of the first 5 powers of 2: {1, 2, 4, 8, 16}\n"
     ]
    }
   ],
   "source": [
    "\"\"\"45. Create a set of the first `n` powers of 2.\"\"\"\n",
    "n = 5\n",
    "powers_of_2_set = {2 ** i for i in range(n)}\n",
    "\n",
    "print(\"Set of the first\", n, \"powers of 2:\", powers_of_2_set)"
   ]
  },
  {
   "cell_type": "code",
   "execution_count": 281,
   "id": "9d28fa7d-c287-47a1-a4cc-dec5567254e0",
   "metadata": {},
   "outputs": [
    {
     "name": "stdout",
     "output_type": "stream",
     "text": [
      "Common elements: {4, 5}\n"
     ]
    }
   ],
   "source": [
    "\"\"\"46. Find the common elements between a set and a list.\"\"\"\n",
    "my_set = {1, 2, 3, 4, 5}\n",
    "my_list = [4, 5, 6, 7, 8]\n",
    "common_elements = my_set.intersection(my_list)\n",
    "\n",
    "print(\"Common elements:\", common_elements)"
   ]
  },
  {
   "cell_type": "code",
   "execution_count": 282,
   "id": "3013c169-5093-43d9-8f0b-044fd11eb081",
   "metadata": {},
   "outputs": [
    {
     "name": "stdout",
     "output_type": "stream",
     "text": [
      "Set of the first 5 triangular numbers: {1, 3, 6, 10, 15}\n"
     ]
    }
   ],
   "source": [
    "\"\"\"47. Create a set of the first `n` triangular numbers.\"\"\"\n",
    "n = 5\n",
    "triangular_numbers_set = {(i * (i + 1)) // 2 for i in range(1, n + 1)}\n",
    "\n",
    "print(\"Set of the first\", n, \"triangular numbers:\", triangular_numbers_set)"
   ]
  },
  {
   "cell_type": "code",
   "execution_count": 284,
   "id": "38861063-a757-4d94-bf35-e7b47b8b77e8",
   "metadata": {},
   "outputs": [
    {
     "name": "stdout",
     "output_type": "stream",
     "text": [
      "set2 is a subset of set1.\n"
     ]
    }
   ],
   "source": [
    "\"\"\"48. Check if a set contains another set as a subset.\"\"\"\n",
    "set1 = {1, 2, 3, 4, 5}\n",
    "set2 = {2, 3}\n",
    "if set2.issubset(set1):\n",
    "    print(\"set2 is a subset of set1.\")\n",
    "else:\n",
    "    print(\"set2 is not a subset of set1.\")"
   ]
  },
  {
   "cell_type": "code",
   "execution_count": 288,
   "id": "820e87e8-a3d8-4fff-bb7e-cf2abfd3d0ce",
   "metadata": {},
   "outputs": [
    {
     "name": "stdout",
     "output_type": "stream",
     "text": [
      "Set of alternating 1s and 0s of length 5 : {0, 1}\n"
     ]
    }
   ],
   "source": [
    "\"\"\"49. Create a set of alternating 1s and 0s of length `n`.\"\"\"\n",
    "n = 5\n",
    "alternating_set = {1 if i % 2 == 0 else 0 for i in range(n)}\n",
    "\n",
    "print(\"Set of alternating 1s and 0s of length\", n, \":\", alternating_set)\n"
   ]
  },
  {
   "cell_type": "code",
   "execution_count": 290,
   "id": "50a931da-a259-49e1-969a-bc06c33d3b10",
   "metadata": {},
   "outputs": [
    {
     "name": "stdout",
     "output_type": "stream",
     "text": [
      "Merged set: {1, 2, 3, 4, 5, 6, 7}\n"
     ]
    }
   ],
   "source": [
    "\"\"\"50. Merge multiple sets into one.\"\"\"\n",
    "set1 = {1, 2, 3}\n",
    "set2 = {3, 4, 5}\n",
    "set3 = {5, 6, 7}\n",
    "merged_set = set1.union(set2, set3)\n",
    "\n",
    "print(\"Merged set:\", merged_set)"
   ]
  },
  {
   "cell_type": "code",
   "execution_count": null,
   "id": "5029f1be-1cc0-4132-970d-74d372d9c8ad",
   "metadata": {},
   "outputs": [],
   "source": []
  }
 ],
 "metadata": {
  "kernelspec": {
   "display_name": "Python 3 (ipykernel)",
   "language": "python",
   "name": "python3"
  },
  "language_info": {
   "codemirror_mode": {
    "name": "ipython",
    "version": 3
   },
   "file_extension": ".py",
   "mimetype": "text/x-python",
   "name": "python",
   "nbconvert_exporter": "python",
   "pygments_lexer": "ipython3",
   "version": "3.10.8"
  }
 },
 "nbformat": 4,
 "nbformat_minor": 5
}
